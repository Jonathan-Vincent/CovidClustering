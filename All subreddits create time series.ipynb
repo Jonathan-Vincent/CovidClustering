{
 "cells": [
  {
   "cell_type": "code",
   "execution_count": 2,
   "id": "635cec44",
   "metadata": {},
   "outputs": [],
   "source": [
    "import csv\n",
    "from datetime import datetime\n",
    "import codecs\n",
    "import pandas as pd\n",
    "from collections import defaultdict\n",
    "import matplotlib.pyplot as plt\n",
    "import pickle\n",
    "import numpy as np\n",
    "from sklearn.decomposition import PCA\n",
    "import plotly.express as px\n",
    "import pandas as pd\n"
   ]
  },
  {
   "cell_type": "code",
   "execution_count": 3,
   "id": "65dadd4c",
   "metadata": {},
   "outputs": [
    {
     "name": "stdout",
     "output_type": "stream",
     "text": [
      "Total comments: 17777472\n",
      "Total subs: 75465\n",
      "Num comments:  10452673\n",
      "Num subs:  275\n",
      "250\n",
      "['aboringdystopia', 'actualpublicfreakouts', 'advice', 'adviceanimals', 'agedlikemilk', 'airforce', 'alberta', 'ama', 'amcstock', 'amitheasshole', 'anarcho_capitalism', 'antiwork', 'anxiety', 'army', 'askaliberal', 'askanamerican', 'askdocs', 'askmen', 'asknyc', 'askreddit', 'askscience', 'askto', 'asktrumpsupporters', 'askuk', 'askwomen', 'atheism', 'ausfinance', 'austin', 'australia', 'australianpolitics', 'awfuleverything', 'aww', 'babybumps', 'badunitedkingdom', 'barstoolsports', 'baseball', 'bayarea', 'beyondthebump', 'blackpeopletwitter', 'blogsnark', 'boston', 'bravorealhousewives', 'brisbane', 'britishcolumbia', 'byebyejob', 'calgary', 'canada', 'canadacoronavirus', 'canadapolitics', 'casualconversation', 'centrist', 'cfb', 'changemyview', 'chicago', 'childfree', 'china_flu', 'christianity', 'collapse', 'collegebasketball', 'columbus', 'conservative', 'conspiracy', 'conspiracy_commons', 'coronavirus', 'coronavirusca', 'coronaviruscirclejerk', 'coronavirusdownunder', 'coronavirusma', 'coronavirustx', 'coronavirusuk', 'coronavirusus', 'coronaviruswa', 'covid19', 'covid19_support', 'covid19positive', 'covidiots', 'covidlonghaulers', 'covidvaccinated', 'cricket', 'cringetopia', 'cryptocurrency', 'cscareerquestions', 'dallas', 'damnthatsinteresting', 'dankmemes', 'dataisbeautiful', 'dating_advice', 'datingoverthirty', 'ddnews', 'debatevaccines', 'denver', 'donaldtrump', 'economics', 'edmonton', 'enough_sanders_spam', 'europe', 'exmormon', 'facepalm', 'fantasyfootball', 'financialindependence', 'florida', 'floridacoronavirus', 'formula1', 'fuckyoukaren', 'funny', 'futurology', 'gaming', 'gifs', 'gunners', 'halifax', 'hermancainaward', 'hockey', 'houston', 'iamatotalpieceofshit', 'india', 'indiaspeaks', 'insaneparents', 'insanepeoplefacebook', 'intellectualdarkweb', 'interestingasfuck', 'investing', 'iowa', 'ireland', 'ivermectin', 'joerogan', 'justiceserved', 'justnomil', 'leagueoflegends', 'legaladvice', 'leopardsatemyface', 'libertarian', 'lifeprotips', 'lockdownsceptics', 'lockdownskepticism', 'losangeles', 'louderwithcrowder', 'mademesmile', 'malaysia', 'maryland', 'medicine', 'melbourne', 'memes', 'michigan', 'mildlyinfuriating', 'mildlyinteresting', 'minnesota', 'mma', 'moderatepolitics', 'movies', 'murderedbywords', 'nashville', 'nba', 'neoliberal', 'newjersey', 'news', 'newzealand', 'nextfuckinglevel', 'nfl', 'nonewnormal', 'northernireland', 'nostupidquestions', 'nottheonion', 'nursing', 'nyc', 'offmychest', 'ohio', 'onguardforthee', 'ontario', 'ottawa', 'outoftheloop', 'parenting', 'pcmasterrace', 'pennystocks', 'personalfinance', 'personalfinancecanada', 'perth', 'philadelphia', 'pics', 'politicalcompassmemes', 'politicaldiscussion', 'politicalhumor', 'politics', 'portland', 'pregnant', 'ps5', 'publicfreakout', 'qanoncasualties', 'qult_headquarters', 'raleigh', 'random_acts_of_amazon', 'realestate', 'relationship_advice', 'relationships', 'sacramento', 'samharris', 'sandiego', 'sanfrancisco', 'saskatoon', 'science', 'scotland', 'seattle', 'seattlewa', 'selfawarewolves', 'showerthoughts', 'singapore', 'soccer', 'squaredcircle', 'starbucks', 'stlouis', 'stocks', 'stupidpol', 'subredditdrama', 'superstonk', 'sydney', 'teachers', 'technology', 'teenagers', 'teenmomogandteenmom2', 'television', 'texas', 'thebachelor', 'themotte', 'therightcantmeme', 'todayilearned', 'tooafraidtoask', 'toronto', 'trashy', 'travel', 'trueoffmychest', 'trump', 'twoxchromosomes', 'ukpolitics', 'unemployment', 'unitedkingdom', 'unpopularopinion', 'upliftingnews', 'usps', 'vancouver', 'vaxxhappened', 'victoriabc', 'videos', 'wallstreetbets', 'walmart', 'washingtondc', 'wayofthebern', 'weddingplanning', 'whatcouldgowrong', 'whitepeopletwitter', 'winnipeg', 'worldnews']\n"
     ]
    }
   ],
   "source": [
    "with open('subdict.pickle', 'rb') as f:\n",
    "    # The protocol version used is detected automatically, so we do not\n",
    "    # have to specify it.\n",
    "    subdict = pickle.load(f)\n",
    "\n",
    "y = np.array(list(subdict.values()))\n",
    "\n",
    "lim = 10000\n",
    "print(\"Total comments:\",np.sum(y))\n",
    "print(\"Total subs:\",len(y))\n",
    "print(\"Num comments: \",np.sum([i for i in y if i>lim]))\n",
    "print(\"Num subs: \",np.sum(y>lim))\n",
    "\n",
    "subs=[]\n",
    "#Too many mod comments\n",
    "remove = ['abortion','paypal','csci040temp','r4rasian','baltimoreanddcr4r','seattler4r']\n",
    "#Not in English\n",
    "not_english = ['brasilnoticias', 'brasilivre', 'mexico', 'de',\n",
    "               'argentina', 'romania', 'quebec', 'brasil', 'portugal', 'italy', 'france', 'sweden',\n",
    "              'indonesia','philippines','newsnepal']\n",
    "RPAN = ['whereintheworld','theyoushow','distantsocializing','redditsessions']\n",
    "total = 0\n",
    "for sub in subdict.keys():\n",
    "    if sub in remove:\n",
    "        continue\n",
    "    if sub in not_english:\n",
    "        continue\n",
    "    if sub in RPAN:\n",
    "        continue\n",
    "    if subdict[sub] > lim:\n",
    "        subs.append(sub)\n",
    "        total += subdict[sub]\n",
    "subs = sorted(subs)\n",
    "print(len(subs))\n",
    "print(subs)"
   ]
  },
  {
   "cell_type": "code",
   "execution_count": 4,
   "id": "ffc8abc3",
   "metadata": {},
   "outputs": [
    {
     "name": "stdout",
     "output_type": "stream",
     "text": [
      "10000 2021-10 libertarian 0.7579 25\n",
      "20000 2021-10 ukpolitics -0.4019 144\n",
      "30000 2021-10 coronavirusdownunder -0.8779 633\n",
      "40000 2021-10 askreddit -0.4754 946\n",
      "50000 2021-10 antiwork 0.9932 1072\n",
      "60000 2021-10 byebyejob -0.1531 253\n",
      "70000 2021-10 coronavirusdownunder -0.8689 1102\n",
      "100000 2021-10 antiwork -0.9396 1749\n",
      "110000 2021-10 cringetopia -0.9302 124\n",
      "150000 2021-10 facepalm 0.6249 1068\n",
      "170000 2021-10 hermancainaward 0.0 6694\n",
      "180000 2021-10 movies -0.4215 291\n",
      "190000 2021-10 formula1 0.3939 345\n",
      "260000 2021-10 baseball 0.0 225\n",
      "280000 2021-10 europe 0.0591 557\n",
      "290000 2021-10 murderedbywords -0.4939 507\n",
      "300000 2021-10 alberta -0.8885 491\n",
      "310000 2021-10 funny -0.7906 6260\n",
      "320000 2021-10 politics -0.0772 3155\n",
      "350000 2021-10 legaladvice -0.9931 205\n",
      "360000 2021-10 leopardsatemyface -0.5875 1241\n",
      "370000 2021-10 ontario 0.2973 1759\n",
      "380000 2021-10 sacramento -0.1614 305\n",
      "400000 2021-10 washingtondc -0.5522 281\n",
      "420000 2021-10 publicfreakout -0.9368 2484\n",
      "440000 2021-10 intellectualdarkweb -0.8413 656\n",
      "450000 2021-10 britishcolumbia 0.3612 197\n",
      "460000 2021-10 askreddit 0.0 10967\n",
      "490000 2021-10 singapore 0.6369 3193\n",
      "500000 2021-10 tooafraidtoask -0.2668 1192\n",
      "530000 2021-10 australia -0.5978 2344\n",
      "550000 2021-10 nextfuckinglevel 0.8682 619\n",
      "560000 2021-10 lifeprotips 0.9832 507\n",
      "570000 2021-10 adviceanimals -0.885 1541\n",
      "580000 2021-10 nursing 0.8176 2806\n",
      "600000 2021-10 nursing 0.7876 2889\n",
      "630000 2021-10 conservative -0.9349 3098\n",
      "690000 2021-10 whitepeopletwitter 0.8937 3901\n",
      "710000 2021-10 asktrumpsupporters 0.2473 484\n",
      "730000 2021-10 debatevaccines -0.7617 4151\n",
      "740000 2021-10 showerthoughts 0.9407 271\n",
      "750000 2021-10 funny 0.6124 15736\n",
      "760000 2021-10 nba 0.4215 4310\n",
      "780000 2021-09 soccer 0.6844 37\n",
      "790000 2021-09 hermancainaward 0.3403 1765\n",
      "820000 2021-09 canadacoronavirus -0.128 70\n",
      "830000 2021-09 politicalhumor 0.6254 310\n",
      "850000 2021-09 hermancainaward -0.9707 4856\n",
      "880000 2021-09 joerogan 0.71 441\n",
      "890000 2021-09 conspiracy 0.7269 5686\n",
      "910000 2021-09 sanfrancisco 0.0772 60\n",
      "920000 2021-09 ottawa 0.9695 209\n",
      "940000 2021-09 politics -0.9382 1941\n",
      "960000 2021-09 publicfreakout 0.6645 1919\n",
      "970000 2021-09 memes 0.0772 690\n",
      "1010000 2021-09 coronavirusdownunder 0.296 4318\n",
      "1030000 2021-09 asktrumpsupporters -0.8953 464\n",
      "1070000 2021-09 politics -0.4199 3567\n",
      "1090000 2021-09 hermancainaward -0.7709 22760\n",
      "1100000 2021-09 newzealand -0.25 2981\n",
      "1120000 2021-09 melbourne 0.9332 2044\n",
      "1130000 2021-09 pics 0.1531 2691\n",
      "1140000 2021-09 washingtondc -0.3071 151\n",
      "1150000 2021-09 coronavirus 0.8837 5077\n",
      "1160000 2021-09 perth 0.1779 440\n",
      "1180000 2021-09 louderwithcrowder -0.8748 1704\n",
      "1200000 2021-09 coronavirusdownunder 0.9152 7221\n",
      "1210000 2021-09 conspiracy -0.7469 19588\n",
      "1230000 2021-09 hermancainaward 0.9449 30654\n",
      "1240000 2021-09 relationship_advice 0.8793 934\n",
      "1250000 2021-09 worldnews 0.9163 6420\n",
      "1270000 2021-09 unpopularopinion -0.5574 1477\n",
      "1280000 2021-09 politicalcompassmemes -0.9389 2831\n",
      "1290000 2021-09 worldnews 0.0 7257\n",
      "1310000 2021-09 changemyview 0.9823 1952\n",
      "1320000 2021-09 australia -0.4215 2023\n",
      "1340000 2021-09 canada -0.1045 6019\n",
      "1360000 2021-09 michigan -0.9134 294\n",
      "1370000 2021-09 science -0.8176 1679\n",
      "1380000 2021-09 science -0.4684 1728\n",
      "1420000 2021-09 funny 0.6124 11426\n",
      "1430000 2021-09 publicfreakout -0.0772 8015\n",
      "1480000 2021-09 centrist 0.9617 1126\n",
      "1490000 2021-09 politics 0.4527 11750\n",
      "1500000 2021-09 malaysia -0.8937 870\n",
      "1510000 2021-09 michigan -0.9417 446\n",
      "1540000 2021-09 politics -0.3604 13323\n",
      "1550000 2021-09 hermancainaward -0.83 47437\n",
      "1570000 2021-09 hermancainaward 0.8434 48121\n",
      "1590000 2021-09 politics -0.9975 15860\n",
      "1600000 2021-09 funny 0.6124 14284\n",
      "1610000 2021-09 news -0.6027 17565\n",
      "1620000 2021-09 politics 0.6972 18135\n",
      "1640000 2021-09 justiceserved 0.2911 222\n",
      "1650000 2021-09 hermancainaward 0.0 51211\n",
      "1660000 2021-09 vancouver -0.3612 2464\n",
      "1670000 2021-09 vaxxhappened -0.862 2053\n",
      "1680000 2021-09 joerogan 0.8555 4296\n",
      "1690000 2021-09 singapore 0.2003 5587\n",
      "1700000 2021-09 qanoncasualties 0.5499 1935\n",
      "1730000 2021-09 asknyc 0.6486 333\n",
      "1750000 2021-09 hermancainaward -0.9811 56626\n",
      "1770000 2021-09 collapse 0.3291 2689\n",
      "1780000 2021-09 facepalm 0.4019 10621\n",
      "1800000 2021-09 coronaviruscirclejerk -0.7841 4363\n",
      "1820000 2021-09 changemyview -0.9545 4342\n",
      "1830000 2021-09 joerogan 0.8032 5774\n",
      "1840000 2021-09 singapore 0.5859 6595\n",
      "1850000 2021-09 conspiracy 0.1531 46964\n",
      "1870000 2021-09 halifax -0.5472 1387\n",
      "1880000 2021-09 ontario 0.0 7133\n",
      "1890000 2021-09 conspiracy 0.0 48852\n",
      "1910000 2021-09 canadacoronavirus 0.7269 1094\n",
      "1920000 2021-09 covidvaccinated 0.8519 1168\n",
      "1930000 2021-09 conspiracy 0.457 50570\n",
      "1940000 2021-09 coronavirusus -0.4709 2063\n",
      "1950000 2021-09 austin 0.9153 1509\n",
      "1970000 2021-09 facepalm -0.6705 13102\n",
      "1980000 2021-09 news -0.7964 25185\n",
      "1990000 2021-09 moderatepolitics -0.9053 2478\n",
      "2000000 2021-09 lockdownsceptics -0.6659 1724\n",
      "2010000 2021-09 ivermectin -0.9749 636\n",
      "2020000 2021-08 conspiracy -0.3818 99\n",
      "2030000 2021-08 ivermectin -0.5574 557\n",
      "2040000 2021-08 worldnews -0.984 186\n",
      "2050000 2021-08 travel 0.5574 57\n",
      "2060000 2021-08 ohio 0.4382 32\n",
      "2100000 2021-08 politicalcompassmemes -0.3818 232\n",
      "2120000 2021-08 relationship_advice -0.2071 178\n",
      "2130000 2021-08 hermancainaward -0.6249 3606\n",
      "2140000 2021-08 newzealand 0.2263 709\n",
      "2150000 2021-08 politicalhumor 0.0516 1095\n",
      "2160000 2021-08 australianpolitics -0.957 86\n",
      "2180000 2021-08 subredditdrama -0.7943 908\n",
      "2190000 2021-08 hermancainaward 0.7378 5137\n",
      "2200000 2021-08 sydney 0.5192 786\n",
      "2210000 2021-08 news 0.9387 4364\n",
      "2230000 2021-08 australia -0.2732 1215\n",
      "2250000 2021-08 coronavirus -0.8588 3630\n",
      "2260000 2021-08 newzealand 0.8658 1572\n",
      "2270000 2021-08 amitheasshole 0.9517 1151\n",
      "2280000 2021-08 covid19positive 0.7032 1489\n",
      "2290000 2021-08 unitedkingdom 0.1943 631\n",
      "2310000 2021-08 austin -0.1361 584\n",
      "2330000 2021-08 politics -0.7269 6628\n",
      "2350000 2021-08 covid19positive 0.8118 1972\n",
      "2360000 2021-08 nostupidquestions -0.4404 799\n",
      "2380000 2021-08 vancouver -0.8555 1134\n",
      "2390000 2021-08 amitheasshole -0.1384 1774\n",
      "2400000 2021-08 adviceanimals 0.6003 1880\n",
      "2420000 2021-08 britishcolumbia 0.4976 1431\n",
      "2430000 2021-08 coronavirus -0.4536 7027\n",
      "2490000 2021-08 coronavirusdownunder 0.1398 8745\n",
      "2500000 2021-08 conspiracy -0.9844 18495\n",
      "2510000 2021-08 conspiracy -0.9503 18853\n",
      "2520000 2021-08 conservative 0.4215 2774\n",
      "2530000 2021-08 canada -0.3527 3733\n",
      "2570000 2021-08 coronavirusdownunder 0.4926 10870\n",
      "2590000 2021-08 ireland -0.6715 1251\n",
      "2600000 2021-08 covidiots 0.9524 1528\n",
      "2630000 2021-08 christianity 0.0 588\n",
      "2640000 2021-08 news 0.6372 16501\n",
      "2650000 2021-08 coronavirusdownunder 0.3612 12517\n",
      "2660000 2021-08 austin 0.8484 1461\n",
      "2680000 2021-08 movies -0.5994 766\n",
      "2690000 2021-08 politics -0.9231 16258\n",
      "2710000 2021-08 news -0.5789 18708\n",
      "2720000 2021-08 leopardsatemyface -0.6143 7653\n",
      "2730000 2021-08 soccer 0.1779 2340\n",
      "2770000 2021-08 conspiracy 0.0258 27886\n",
      "2780000 2021-08 coronavirusdownunder 0.4376 15429\n",
      "2790000 2021-08 pics 0.7578 6723\n",
      "2800000 2021-08 seattlewa -0.9468 1628\n",
      "2820000 2021-08 hockey 0.7989 591\n",
      "2830000 2021-08 coronaviruswa 0.0516 1138\n",
      "2840000 2021-08 unemployment -0.947 626\n",
      "2850000 2021-08 edmonton 0.4497 824\n",
      "2870000 2021-08 news -0.4215 23922\n",
      "2880000 2021-08 dallas -0.6887 891\n",
      "2910000 2021-08 coronavirusuk 0.0 1554\n",
      "2920000 2021-08 amitheasshole 0.7199 4589\n",
      "2930000 2021-08 interestingasfuck -0.875 1180\n",
      "2960000 2021-08 politicalhumor -0.9953 5573\n",
      "2980000 2021-08 atheism -0.8773 1215\n",
      "3020000 2021-08 nonewnormal 0.5181 2305\n",
      "3070000 2021-08 politicalcompassmemes 0.4939 3864\n",
      "3090000 2021-08 badunitedkingdom -0.3154 784\n",
      "3100000 2021-08 nursing -0.1531 5553\n",
      "3110000 2021-08 ontario 0.0 6261\n",
      "3160000 2021-08 floridacoronavirus 0.3899 2792\n",
      "3180000 2021-08 conspiracy -0.7096 41754\n",
      "3200000 2021-08 politics -0.7783 33146\n",
      "3220000 2021-08 askreddit 0.0 22377\n",
      "3230000 2021-08 conspiracy 0.1779 43443\n",
      "3250000 2021-08 lockdownskepticism -0.6858 7208\n",
      "3270000 2021-08 centrist 0.4939 1522\n",
      "3280000 2021-08 murderedbywords -0.8934 2477\n",
      "3290000 2021-08 conspiracy 0.6249 45128\n",
      "3300000 2021-08 interestingasfuck -0.5994 1394\n",
      "3310000 2021-08 sydney 0.0 6216\n",
      "3350000 2021-08 realestate 0.9698 552\n",
      "3360000 2021-08 blackpeopletwitter -0.09 748\n",
      "3370000 2021-08 qult_headquarters -0.8591 1747\n",
      "3380000 2021-08 insaneparents 0.0387 810\n",
      "3390000 2021-08 nonewnormal 0.3612 12586\n",
      "3400000 2021-08 australia -0.5106 8487\n"
     ]
    },
    {
     "name": "stdout",
     "output_type": "stream",
     "text": [
      "3420000 2021-07 sydney 0.4118 26\n",
      "3430000 2021-07 leopardsatemyface -0.1531 291\n",
      "3440000 2021-07 wallstreetbets -0.481 266\n",
      "3460000 2021-07 coronavirusdownunder 0.6497 512\n",
      "3470000 2021-07 northernireland 0.0 91\n",
      "3510000 2021-07 lockdownsceptics -0.9441 196\n",
      "3520000 2021-07 vancouver -0.3182 199\n",
      "3560000 2021-07 nonewnormal 0.0 4413\n",
      "3570000 2021-07 facepalm -0.3843 801\n",
      "3600000 2021-07 coronavirusus 0.0 690\n",
      "3610000 2021-07 conservative 0.6199 1437\n",
      "3620000 2021-07 conspiracy -0.7855 7445\n",
      "3650000 2021-07 todayilearned 0.0 194\n",
      "3680000 2021-07 coronavirus 0.0762 7866\n",
      "3700000 2021-07 nfl 0.4588 1455\n",
      "3710000 2021-07 nyc -0.868 737\n",
      "3740000 2021-07 whitepeopletwitter 0.5267 1424\n",
      "3750000 2021-07 conspiracy 0.738 11753\n",
      "3760000 2021-07 weddingplanning 0.8519 447\n",
      "3780000 2021-07 nonewnormal 0.3094 11457\n",
      "3800000 2021-07 lockdownsceptics -0.3251 796\n",
      "3820000 2021-07 memes -0.128 1362\n",
      "3830000 2021-07 askreddit 0.5106 8700\n",
      "3840000 2021-07 joerogan -0.7725 1493\n",
      "3850000 2021-07 austin 0.0 1807\n",
      "3860000 2021-07 politics -0.6534 12528\n",
      "3870000 2021-07 askreddit 0.7108 9796\n",
      "3890000 2021-07 askreddit 0.4404 11226\n",
      "3910000 2021-07 awfuleverything 0.0 167\n",
      "3920000 2021-07 newjersey -0.5547 372\n",
      "3940000 2021-07 lockdownsceptics 0.0 1132\n",
      "3950000 2021-07 leopardsatemyface -0.3151 6180\n",
      "3960000 2021-07 politics 0.9715 14949\n",
      "3970000 2021-07 coronavirusdownunder -0.765 8285\n",
      "3980000 2021-07 coronavirusus -0.8629 2166\n",
      "3990000 2021-07 nonewnormal 0.3612 18965\n",
      "4000000 2021-07 askreddit 0.9648 13449\n",
      "4040000 2021-07 publicfreakout 0.2263 4427\n",
      "4060000 2021-07 lockdownskepticism -0.7003 4419\n",
      "4070000 2021-07 collapse -0.4055 2148\n",
      "4080000 2021-07 coronavirus 0.0 18214\n",
      "4090000 2021-07 politicalhumor -0.128 4488\n",
      "4130000 2021-07 coronavirus 0.6249 19766\n",
      "4170000 2021-07 toronto -0.2732 2000\n",
      "4180000 2021-07 coronavirus -0.9247 21190\n",
      "4230000 2021-07 askreddit -0.296 22786\n",
      "4240000 2021-07 askreddit 0.4019 23062\n",
      "4250000 2021-07 covid19positive 0.7161 5076\n",
      "4290000 2021-07 subredditdrama -0.5005 566\n",
      "4300000 2021-07 nyc 0.3612 1486\n",
      "4310000 2021-07 anarcho_capitalism -0.8924 439\n",
      "4320000 2021-07 politics -0.4767 20862\n",
      "4330000 2021-06 conspiracy -0.9586 156\n",
      "4340000 2021-06 coronavirusdownunder 0.1531 130\n",
      "4350000 2021-06 cringetopia 0.4019 37\n",
      "4390000 2021-06 nonewnormal 0.0 1705\n",
      "4400000 2021-06 askreddit 0.8955 1735\n",
      "4420000 2021-06 winnipeg 0.3182 235\n",
      "4460000 2021-06 debatevaccines 0.8205 350\n",
      "4470000 2021-06 politics -0.166 1806\n",
      "4490000 2021-06 barstoolsports -0.6994 201\n",
      "4500000 2021-06 todayilearned 0.9715 152\n",
      "4510000 2021-06 askto 0.6643 196\n",
      "4570000 2021-06 askreddit 0.4504 6425\n",
      "4580000 2021-06 politicalcompassmemes 0.3941 535\n",
      "4600000 2021-06 worldnews -0.8675 6731\n",
      "4610000 2021-06 coronavirus 0.0 7002\n",
      "4630000 2021-06 iowa 0.7334 88\n",
      "4640000 2021-06 centrist 0.8246 280\n",
      "4650000 2021-06 politics 0.0 3936\n",
      "4660000 2021-06 lockdownsceptics -0.7061 1002\n",
      "4670000 2021-06 ukpolitics 0.9962 2464\n",
      "4680000 2021-06 videos 0.1593 171\n",
      "4690000 2021-06 covid19positive -0.5584 1360\n",
      "4700000 2021-06 mma -0.1779 266\n",
      "4710000 2021-06 news 0.9267 8296\n",
      "4720000 2021-06 malaysia 0.7556 1000\n",
      "4730000 2021-06 soccer 0.6757 3507\n",
      "4740000 2021-06 covidlonghaulers -0.926 1967\n",
      "4750000 2021-06 lockdownskepticism 0.2444 2869\n",
      "4760000 2021-06 askreddit 0.9087 11890\n",
      "4770000 2021-06 personalfinancecanada 0.7399 473\n",
      "4820000 2021-06 libertarian -0.4963 683\n",
      "4830000 2021-06 askreddit 0.5994 14086\n",
      "4840000 2021-06 covidvaccinated 0.9723 2776\n",
      "4850000 2021-06 conspiracy_commons 0.4002 562\n",
      "4870000 2021-06 conservative -0.7717 2436\n",
      "4900000 2021-06 conspiracy 0.5559 13919\n",
      "4920000 2021-06 losangeles 0.0 775\n",
      "4930000 2021-06 baseball 0.816 512\n",
      "4960000 2021-06 melbourne -0.9072 1909\n",
      "4970000 2021-06 austin -0.6828 769\n",
      "4980000 2021-06 covidvaccinated -0.4003 3423\n",
      "5020000 2021-05 india -0.3612 307\n",
      "5030000 2021-05 politics -0.9691 978\n",
      "5040000 2021-05 personalfinance 0.7872 57\n",
      "5080000 2021-05 worldnews 0.0 1155\n",
      "5090000 2021-05 coronavirusuk 0.3612 516\n",
      "5100000 2021-05 canada -0.8047 778\n",
      "5110000 2021-05 nyc -0.4976 145\n",
      "5130000 2021-05 nonewnormal -0.8433 5066\n",
      "5150000 2021-05 india -0.3818 1374\n",
      "5190000 2021-05 science -0.296 1006\n",
      "5210000 2021-05 conspiracy -0.802 6860\n",
      "5220000 2021-05 coronavirus -0.2192 4421\n",
      "5230000 2021-05 canada 0.5574 1990\n",
      "5270000 2021-05 boston -0.9088 437\n",
      "5300000 2021-05 news -0.5994 4129\n",
      "5320000 2021-05 amitheasshole -0.163 2183\n",
      "5330000 2021-05 coronavirus 0.9103 7140\n",
      "5340000 2021-05 askanamerican -0.3657 398\n",
      "5350000 2021-05 coronavirus 0.3116 8150\n",
      "5380000 2021-05 nottheonion 0.7618 1476\n",
      "5390000 2021-05 nonewnormal 0.0 14577\n",
      "5450000 2021-05 advice -0.8304 773\n",
      "5470000 2021-05 askreddit -0.9905 13315\n",
      "5480000 2021-05 teenagers -0.9169 1202\n",
      "5500000 2021-05 pics 0.4926 1910\n",
      "5510000 2021-05 personalfinance 0.2263 553\n",
      "5520000 2021-05 australia -0.8271 1447\n",
      "5530000 2021-05 moderatepolitics -0.9964 1121\n",
      "5600000 2021-05 superstonk 0.8991 2387\n",
      "5620000 2021-05 politicalhumor 0.0864 2702\n",
      "5630000 2021-05 amitheasshole 0.9991 4276\n",
      "5640000 2021-05 videos 0.0 753\n",
      "5650000 2021-05 texas 0.8765 310\n",
      "5660000 2021-05 amitheasshole 0.3381 4459\n",
      "5690000 2021-05 canadacoronavirus 0.0 1410\n",
      "5700000 2021-05 floridacoronavirus -0.5682 460\n",
      "5710000 2021-05 ireland -0.1426 1958\n",
      "5720000 2021-05 cricket -0.802 504\n",
      "5760000 2021-05 canada -0.9254 7227\n",
      "5790000 2021-05 canadacoronavirus -0.0762 1612\n",
      "5800000 2021-05 soccer 0.4767 4254\n",
      "5820000 2021-04 whitepeopletwitter -0.1531 170\n",
      "5870000 2021-04 askreddit 0.7177 1436\n",
      "5880000 2021-04 conspiracy 0.7867 1438\n",
      "5910000 2021-04 superstonk -0.1926 271\n",
      "5920000 2021-04 covidvaccinated 0.603 514\n",
      "5930000 2021-04 india 0.0 2334\n",
      "5970000 2021-04 covidiots -0.1779 376\n",
      "6010000 2021-04 mma 0.5574 547\n",
      "6020000 2021-04 covidvaccinated 0.8598 967\n",
      "6060000 2021-04 conspiracy 0.0 4926\n",
      "6070000 2021-04 childfree 0.4939 250\n",
      "6090000 2021-04 facepalm 0.7112 1365\n",
      "6100000 2021-04 askreddit -0.5994 8758\n",
      "6110000 2021-04 coronaviruswa 0.7958 554\n",
      "6130000 2021-04 askreddit -0.5574 11060\n",
      "6150000 2021-04 politics -0.8834 6376\n",
      "6170000 2021-04 coronavirus 0.9706 8878\n",
      "6210000 2021-04 askto -0.4497 480\n",
      "6220000 2021-04 ontario -0.9135 6341\n",
      "6260000 2021-04 hockey 0.3096 1232\n",
      "6280000 2021-04 nonewnormal -0.296 13339\n",
      "6290000 2021-04 askanamerican 0.6747 467\n",
      "6300000 2021-04 covid19positive 0.7328 2139\n",
      "6330000 2021-04 askreddit 0.0 15952\n",
      "6340000 2021-04 askreddit 0.296 16102\n",
      "6390000 2021-04 leopardsatemyface 0.8176 1667\n",
      "6400000 2021-04 cricket 0.0 989\n",
      "6420000 2021-04 coronavirus 0.5994 16239\n",
      "6460000 2021-04 nonewnormal -0.3197 17834\n",
      "6520000 2021-04 legaladvice 0.8715 719\n",
      "6540000 2021-04 realestate -0.196 760\n",
      "6550000 2021-04 nfl 0.7789 1785\n",
      "6560000 2021-04 coronavirusma 0.0 842\n",
      "6570000 2021-04 coronavirus 0.832 20309\n",
      "6600000 2021-04 videos 0.0 687\n",
      "6630000 2021-04 news 0.0 12244\n",
      "6650000 2021-04 coronaviruswa 0.8585 1320\n",
      "6660000 2021-04 coronavirusdownunder -0.1779 2830\n",
      "6670000 2021-04 askreddit 0.8831 24742\n",
      "6690000 2021-04 videos 0.0 726\n",
      "6710000 2021-03 askwomen 0.8033 19\n",
      "6730000 2021-03 nonewnormal 0.0 886\n",
      "6760000 2021-03 random_acts_of_amazon 0.9838 40\n",
      "6800000 2021-03 mildlyinteresting 0.9028 126\n",
      "6810000 2021-03 askreddit -0.3182 4209\n",
      "6860000 2021-03 politics 0.743 2726\n",
      "6880000 2021-03 askreddit 0.8968 6364\n",
      "6900000 2021-03 justiceserved -0.3612 9\n",
      "6930000 2021-03 news -0.8708 2870\n",
      "6960000 2021-03 worldnews -0.529 3071\n",
      "6970000 2021-03 covidlonghaulers -0.9046 1231\n",
      "6980000 2021-03 askreddit 0.8377 9258\n",
      "6990000 2021-03 florida -0.7579 179\n",
      "7010000 2021-03 joerogan -0.4767 655\n",
      "7030000 2021-03 lockdownsceptics -0.5411 1084\n",
      "7060000 2021-03 nostupidquestions -0.5187 1065\n",
      "7070000 2021-03 nfl 0.6858 1210\n",
      "7090000 2021-03 ireland -0.1531 2321\n",
      "7100000 2021-03 stocks -0.3376 927\n",
      "7120000 2021-03 covid19positive 0.8316 1896\n",
      "7130000 2021-03 politicalhumor 0.8847 1743\n",
      "7140000 2021-03 publicfreakout -0.8212 3763\n",
      "7180000 2021-03 nba 0.5256 2616\n",
      "7260000 2021-03 ausfinance 0.714 362\n",
      "7270000 2021-03 whatcouldgowrong -0.9123 430\n",
      "7280000 2021-03 amitheasshole -0.9965 4542\n",
      "7300000 2021-03 askreddit 0.7231 19333\n",
      "7320000 2021-03 publicfreakout 0.0 4417\n",
      "7330000 2021-03 tooafraidtoask -0.7845 672\n",
      "7340000 2021-03 ontario -0.8555 4724\n",
      "7370000 2021-03 coronavirus -0.8624 18793\n",
      "7400000 2021-03 alberta 0.397 1000\n",
      "7410000 2021-03 covidvaccinated -0.25 1840\n",
      "7420000 2021-03 amitheasshole 0.9905 5783\n",
      "7440000 2021-03 unemployment -0.6249 1226\n"
     ]
    },
    {
     "name": "stdout",
     "output_type": "stream",
     "text": [
      "7470000 2021-03 conservative 0.5856 5825\n",
      "7480000 2021-03 pics 0.9606 2907\n",
      "7490000 2021-03 britishcolumbia 0.9227 410\n",
      "7500000 2021-03 squaredcircle -0.0516 2201\n",
      "7520000 2021-03 newzealand 0.361 1883\n",
      "7530000 2021-02 ivermectin -0.5781 1\n",
      "7550000 2021-02 pics -0.5145 182\n",
      "7600000 2021-02 covidlonghaulers 0.7479 262\n",
      "7610000 2021-02 askanamerican 0.2846 97\n",
      "7620000 2021-02 malaysia 0.0 77\n",
      "7630000 2021-02 toronto -0.8995 324\n",
      "7680000 2021-02 australia -0.9316 215\n",
      "7690000 2021-02 joerogan -0.9803 192\n",
      "7700000 2021-02 coronavirus -0.4703 5038\n",
      "7710000 2021-02 thebachelor 0.6902 211\n",
      "7740000 2021-02 teachers 0.3187 400\n",
      "7750000 2021-02 formula1 -0.2541 195\n",
      "7800000 2021-02 moderatepolitics -0.5518 198\n",
      "7810000 2021-02 trueoffmychest 0.2323 489\n",
      "7820000 2021-02 pennystocks 0.4767 418\n",
      "7830000 2021-02 conspiracy -0.6124 5351\n",
      "7920000 2021-02 mma 0.3382 524\n",
      "7930000 2021-02 politics 0.0 10193\n",
      "7940000 2021-02 cricket 0.3182 657\n",
      "7970000 2021-02 cricket 0.5061 773\n",
      "8010000 2021-02 coronavirus 0.209 13581\n",
      "8020000 2021-02 nyc 0.9876 812\n",
      "8030000 2021-02 nextfuckinglevel 0.4659 1108\n",
      "8040000 2021-02 askreddit 0.5836 14782\n",
      "8060000 2021-02 blogsnark 0.4767 914\n",
      "8090000 2021-02 britishcolumbia 0.0772 330\n",
      "8100000 2021-02 vancouver 0.3182 1427\n",
      "8130000 2021-02 atheism 0.791 295\n",
      "8140000 2021-02 nursing -0.2263 766\n",
      "8150000 2021-02 calgary 0.7551 1056\n",
      "8180000 2021-02 australia 0.0 1089\n",
      "8190000 2021-02 wallstreetbets -0.296 8186\n",
      "8200000 2021-02 insanepeoplefacebook -0.6988 1235\n",
      "8210000 2021-02 toronto -0.8047 2172\n",
      "8220000 2021-02 nonewnormal -0.5106 11775\n",
      "8230000 2021-02 wallstreetbets 0.0 9034\n",
      "8250000 2021-02 ukpolitics -0.9815 6739\n",
      "8270000 2021-02 coronavirus 0.2263 21065\n",
      "8280000 2021-02 wallstreetbets 0.291 10120\n",
      "8290000 2021-02 ausfinance 0.9062 592\n",
      "8300000 2021-01 conspiracy 0.4574 49\n",
      "8330000 2021-01 wallstreetbets 0.659 1129\n",
      "8340000 2021-01 pics -0.6841 71\n",
      "8350000 2021-01 teachers 0.3276 155\n",
      "8370000 2021-01 vancouver 0.4215 202\n",
      "8400000 2021-01 ontario -0.1411 534\n",
      "8420000 2021-01 leopardsatemyface -0.2732 261\n",
      "8450000 2021-01 casualconversation -0.7845 149\n",
      "8460000 2021-01 collapse -0.9664 275\n",
      "8470000 2021-01 politics 0.0772 3515\n",
      "8480000 2021-01 lifeprotips 0.0681 125\n",
      "8500000 2021-01 lockdownskepticism -0.3369 1500\n",
      "8530000 2021-01 hockey -0.6901 547\n",
      "8540000 2021-01 trueoffmychest 0.34 554\n",
      "8550000 2021-01 collegebasketball 0.9259 431\n",
      "8570000 2021-01 nottheonion 0.8917 617\n",
      "8580000 2021-01 canada 0.9954 1614\n",
      "8600000 2021-01 conservative -0.34 3298\n",
      "8610000 2021-01 politics -0.1027 8894\n",
      "8630000 2021-01 askaliberal 0.296 212\n",
      "8640000 2021-01 stlouis -0.796 162\n",
      "8660000 2021-01 conspiracy -0.6841 5077\n",
      "8670000 2021-01 malaysia -0.9865 607\n",
      "8680000 2021-01 squaredcircle 0.0 1035\n",
      "8700000 2021-01 ukpolitics -0.0803 4631\n",
      "8710000 2021-01 gaming -0.1027 306\n",
      "8720000 2021-01 ontario -0.9796 2745\n",
      "8730000 2021-01 worldnews -0.9201 6058\n",
      "8740000 2021-01 personalfinance 0.9493 824\n",
      "8760000 2021-01 barstoolsports -0.5574 591\n",
      "8790000 2021-01 neoliberal 0.3182 2367\n",
      "8800000 2021-01 upliftingnews -0.7096 329\n",
      "8810000 2021-01 gaming 0.8779 479\n",
      "8850000 2021-01 datingoverthirty 0.9508 636\n",
      "8860000 2021-01 advice 0.2023 1001\n",
      "8930000 2021-01 squaredcircle -0.6836 2374\n",
      "8940000 2021-01 publicfreakout -0.4019 4788\n",
      "8950000 2021-01 wallstreetbets 0.6369 8334\n",
      "8970000 2021-01 conspiracy 0.2944 9874\n",
      "8980000 2021-01 worldnews -0.4576 9858\n",
      "9000000 2021-01 unpopularopinion 0.9496 1717\n",
      "9010000 2021-01 ukpolitics -0.9023 7827\n",
      "9020000 2021-01 conservative -0.743 5161\n",
      "9040000 2021-01 washingtondc 0.8481 492\n",
      "9060000 2021-01 politics 0.0 26132\n",
      "9140000 2021-01 wallstreetbets 0.4703 9592\n",
      "9160000 2021-01 asknyc -0.2732 1096\n",
      "9170000 2021-01 covidlonghaulers 0.9213 2574\n",
      "9190000 2021-01 sydney -0.4767 667\n",
      "9200000 2021-01 amitheasshole 0.3492 9348\n",
      "9210000 2021-01 coronavirus -0.9595 25241\n",
      "9240000 2021-01 todayilearned 0.4215 1328\n",
      "9270000 2020-12 conspiracy 0.296 67\n",
      "9290000 2020-12 vancouver -0.9714 37\n",
      "9300000 2020-12 thebachelor 0.0 55\n",
      "9330000 2020-12 mademesmile 0.0 60\n",
      "9340000 2020-12 askreddit 0.092 3805\n",
      "9350000 2020-12 pcmasterrace 0.3597 49\n",
      "9360000 2020-12 unitedkingdom 0.296 480\n",
      "9370000 2020-12 coronavirus 0.8834 3241\n",
      "9380000 2020-12 soccer 0.3182 722\n",
      "9390000 2020-12 pcmasterrace 0.1979 100\n",
      "9400000 2020-12 news -0.9677 2386\n",
      "9420000 2020-12 upliftingnews -0.802 158\n",
      "9430000 2020-12 news -0.8607 2895\n",
      "9450000 2020-12 news 0.1779 3458\n",
      "9460000 2020-12 askreddit 0.0 7560\n",
      "9470000 2020-12 outoftheloop -0.541 135\n",
      "9510000 2020-12 blogsnark 0.9771 420\n",
      "9520000 2020-12 coronavirusuk 0.9505 1756\n",
      "9530000 2020-12 videos 0.4003 270\n",
      "9540000 2020-12 politics 0.8847 8086\n",
      "9560000 2020-12 nba 0.8805 1605\n",
      "9580000 2020-12 squaredcircle 0.296 1206\n",
      "9590000 2020-12 beyondthebump -0.34 194\n",
      "9610000 2020-12 leagueoflegends 0.0 102\n",
      "9630000 2020-12 coronavirusus 0.2023 821\n",
      "9660000 2020-12 iamatotalpieceofshit 0.1531 741\n",
      "9670000 2020-12 alberta -0.8074 571\n",
      "9700000 2020-12 publicfreakout 0.4939 3747\n",
      "9760000 2020-12 news 0.7845 9537\n",
      "9780000 2020-12 askreddit -0.2846 20263\n",
      "9800000 2020-12 conspiracy 0.0 9268\n",
      "9830000 2020-12 personalfinancecanada 0.0 703\n",
      "9840000 2020-12 dataisbeautiful -0.5454 1698\n",
      "9850000 2020-12 awfuleverything -0.7096 510\n",
      "9890000 2020-12 murderedbywords 0.0 737\n",
      "9900000 2020-12 facepalm -0.509 2543\n",
      "9930000 2020-12 cfb 0.6652 3738\n",
      "9940000 2020-12 personalfinancecanada 0.8689 868\n",
      "9960000 2020-12 coronavirus -0.1779 22429\n",
      "9970000 2020-12 coronavirus -0.9901 22899\n",
      "9980000 2020-12 conspiracy -0.9831 13286\n",
      "10010000 2020-12 toronto -0.7431 2232\n",
      "10030000 2020-12 politics -0.4767 24173\n",
      "10040000 2020-12 economics 0.5429 551\n",
      "10050000 2020-12 coronavirus 0.5574 25404\n",
      "10080000 2020-12 worldnews -0.7589 14172\n",
      "10090000 2020-12 coronavirus -0.0258 26383\n",
      "10100000 2020-12 politicalcompassmemes 0.1007 2214\n",
      "10110000 2020-12 soccer 0.5244 3239\n",
      "10140000 2020-12 ireland 0.6369 2066\n",
      "10160000 2020-12 science 0.2528 1807\n",
      "10200000 2020-12 covid19positive -0.9537 5431\n",
      "10240000 2020-12 conservative -0.9338 7835\n",
      "10260000 2020-12 ontario 0.9696 5142\n",
      "10310000 2020-11 coronavirus -0.6249 563\n",
      "10320000 2020-11 europe 0.0 22\n",
      "10340000 2020-11 nfl -0.5574 1324\n",
      "10350000 2020-11 insanepeoplefacebook -0.749 187\n",
      "10370000 2020-11 wallstreetbets 0.2846 651\n",
      "10390000 2020-11 nonewnormal -0.7861 859\n",
      "10400000 2020-11 worldnews 0.5524 1996\n",
      "10410000 2020-11 newjersey 0.7269 86\n",
      "10420000 2020-11 insanepeoplefacebook 0.0 385\n",
      "10430000 2020-11 unitedkingdom -0.2732 331\n",
      "10460000 2020-11 childfree -0.0772 163\n",
      "10480000 2020-11 austin 0.5346 203\n",
      "10490000 2020-11 politics 0.2942 5420\n",
      "10500000 2020-11 portland -0.0943 263\n",
      "10520000 2020-11 conspiracy -0.7269 4231\n",
      "10540000 2020-11 askreddit -0.9375 9691\n",
      "10550000 2020-11 leopardsatemyface 0.1393 410\n",
      "10570000 2020-11 coronavirus 0.6603 8828\n",
      "10580000 2020-11 nursing 0.6675 814\n",
      "10590000 2020-11 teenagers 0.0 834\n",
      "10630000 2020-11 donaldtrump 0.7603 924\n",
      "10650000 2020-11 nonewnormal -0.5736 2846\n",
      "10670000 2020-11 ireland -0.7935 730\n",
      "10680000 2020-11 coronavirus -0.9185 11939\n",
      "10700000 2020-11 centrist -0.848 149\n",
      "10730000 2020-11 lockdownskepticism 0.6705 2877\n",
      "10740000 2020-11 nyc 0.0258 1154\n",
      "10770000 2020-11 unitedkingdom -0.1531 1063\n",
      "10790000 2020-11 pics 0.872 3708\n",
      "10800000 2020-11 politicalhumor 0.1027 1892\n",
      "10810000 2020-11 canadapolitics -0.6662 644\n",
      "10820000 2020-11 coronavirus -0.8271 16216\n",
      "10840000 2020-11 moderatepolitics 0.9372 431\n",
      "10880000 2020-11 politics 0.4588 19841\n",
      "10920000 2020-11 murderedbywords 0.4902 930\n",
      "10930000 2020-11 politics -0.9645 22124\n",
      "10950000 2020-11 pregnant 0.9179 929\n",
      "11000000 2020-11 coronavirus 0.4404 22115\n",
      "11010000 2020-11 covid19positive 0.8687 3519\n",
      "11020000 2020-11 politics -0.9064 26660\n",
      "11030000 2020-11 trueoffmychest 0.6114 1585\n",
      "11040000 2020-11 politics 0.2732 27949\n",
      "11050000 2020-11 indiaspeaks -0.0567 134\n",
      "11060000 2020-11 toronto -0.0772 3756\n",
      "11070000 2020-11 worldnews 0.0 13164\n",
      "11090000 2020-11 politics 0.534 33673\n",
      "11100000 2020-11 politics -0.5423 35022\n",
      "11110000 2020-11 politics 0.0 36346\n",
      "11120000 2020-11 childfree 0.296 781\n",
      "11130000 2020-11 singapore -0.7675 859\n",
      "11160000 2020-11 politics -0.4404 45361\n",
      "11180000 2020-11 coronavirus 0.0 25886\n",
      "11190000 2020-11 coronavirus 0.8885 26078\n",
      "11200000 2020-11 northernireland -0.7227 665\n",
      "11210000 2020-11 squaredcircle -0.5423 2177\n",
      "11230000 2020-11 covid19 0.7143 1683\n",
      "11240000 2020-11 collapse -0.9851 1448\n"
     ]
    },
    {
     "name": "stdout",
     "output_type": "stream",
     "text": [
      "11260000 2020-10 coronavirusuk 0.7474 2\n",
      "11280000 2020-10 teenagers -0.6482 80\n",
      "11310000 2020-10 michigan 0.69 90\n",
      "11330000 2020-10 newjersey 0.9975 42\n",
      "11340000 2020-10 army -0.7003 64\n",
      "11350000 2020-10 conspiracy -0.128 1329\n",
      "11370000 2020-10 askmen 0.9488 159\n",
      "11390000 2020-10 conspiracy 0.2023 1784\n",
      "11400000 2020-10 maryland -0.6131 128\n",
      "11410000 2020-10 memes -0.5267 869\n",
      "11420000 2020-10 politics -0.4417 8581\n",
      "11430000 2020-10 conservative 0.8319 1222\n",
      "11440000 2020-10 politics -0.6249 9899\n",
      "11470000 2020-10 moderatepolitics 0.4404 422\n",
      "11480000 2020-10 barstoolsports 0.4497 371\n",
      "11490000 2020-10 sandiego 0.9185 137\n",
      "11500000 2020-10 nonewnormal -0.5299 1546\n",
      "11510000 2020-10 melbourne -0.7615 1036\n",
      "11520000 2020-10 coronavirusuk -0.7845 1647\n",
      "11530000 2020-10 ohio -0.3134 85\n",
      "11540000 2020-10 lifeprotips 0.7546 272\n",
      "11560000 2020-10 seattlewa 0.7906 184\n",
      "11570000 2020-10 news 0.91 5617\n",
      "11610000 2020-10 coronavirusuk -0.9373 2399\n",
      "11640000 2020-10 seattlewa -0.5994 256\n",
      "11660000 2020-10 canada -0.8679 1739\n",
      "11670000 2020-10 coronavirus -0.6474 11811\n",
      "11680000 2020-10 trump -0.3616 846\n",
      "11690000 2020-10 europe 0.0 1307\n",
      "11750000 2020-10 ddnews 0.9776 4385\n",
      "11760000 2020-10 seattlewa 0.7579 364\n",
      "11780000 2020-10 thebachelor 0.3182 827\n",
      "11790000 2020-10 nfl -0.4019 4221\n",
      "11810000 2020-10 fantasyfootball -0.6696 2488\n",
      "11820000 2020-10 conspiracy 0.1265 7074\n",
      "11830000 2020-10 unemployment 0.5267 1121\n",
      "11840000 2020-10 nfl -0.8779 4663\n",
      "11850000 2020-10 fantasyfootball 0.6705 2949\n",
      "11860000 2020-10 politics 0.2139 31562\n",
      "11880000 2020-10 random_acts_of_amazon 0.9801 524\n",
      "11910000 2020-10 nfl 0.5859 5589\n",
      "11930000 2020-10 conspiracy -0.926 8445\n",
      "11950000 2020-10 worldnews -0.9136 12294\n",
      "11990000 2020-10 neoliberal 0.0 3808\n",
      "12020000 2020-10 politics -0.049 51168\n",
      "12030000 2020-10 politics 0.1511 53151\n",
      "12040000 2020-10 politics 0.0 55767\n",
      "12050000 2020-10 enough_sanders_spam 0.0387 1038\n",
      "12060000 2020-10 cricket 0.0 350\n",
      "12090000 2020-10 conservative -0.5063 5847\n",
      "12100000 2020-10 worldnews -0.4335 14565\n",
      "12110000 2020-10 funny 0.0 2118\n",
      "12130000 2020-10 neoliberal 0.7096 5409\n",
      "12150000 2020-10 baseball -0.3612 2358\n",
      "12180000 2020-10 amitheasshole -0.9176 8745\n",
      "12190000 2020-10 fantasyfootball -0.4556 5804\n",
      "12200000 2020-10 worldnews 0.7579 15943\n",
      "12220000 2020-09 wallstreetbets -0.8725 50\n",
      "12240000 2020-09 columbus -0.2263 13\n",
      "12250000 2020-09 worldnews 0.5256 588\n",
      "12260000 2020-09 coronavirus 0.6124 1071\n",
      "12280000 2020-09 askreddit 0.0 2302\n",
      "12300000 2020-09 changemyview -0.9808 161\n",
      "12320000 2020-09 conspiracy -0.9439 1258\n",
      "12330000 2020-09 coronavirus -0.7579 3260\n",
      "12340000 2020-09 politics 0.8547 4538\n",
      "12380000 2020-09 stlouis -0.1668 85\n",
      "12390000 2020-09 wallstreetbets -0.8074 1264\n",
      "12410000 2020-09 chicago 0.7057 215\n",
      "12420000 2020-09 lockdownskepticism 0.6369 1447\n",
      "12440000 2020-09 edmonton 0.5902 177\n",
      "12450000 2020-09 nonewnormal -0.5663 1347\n",
      "12510000 2020-09 coronavirusuk 0.4019 2219\n",
      "12550000 2020-09 worldnews 0.2263 4728\n",
      "12560000 2020-09 relationship_advice -0.5187 1821\n",
      "12570000 2020-09 nostupidquestions -0.7845 680\n",
      "12580000 2020-09 conservative -0.7991 2286\n",
      "12590000 2020-09 amitheasshole 0.0068 4004\n",
      "12630000 2020-09 news 0.1454 7413\n",
      "12680000 2020-09 coronavirus 0.0 12574\n",
      "12690000 2020-09 politics -0.1666 14880\n",
      "12710000 2020-09 unpopularopinion -0.9169 1828\n",
      "12720000 2020-09 todayilearned -0.659 785\n",
      "12730000 2020-09 michigan 0.9253 563\n",
      "12750000 2020-09 covid19 -0.9743 1142\n",
      "12770000 2020-09 coronaviruswa 0.8919 393\n",
      "12780000 2020-09 politics -0.5994 18593\n",
      "12790000 2020-09 coronavirus -0.302 15394\n",
      "12800000 2020-09 science -0.9246 1340\n",
      "12830000 2020-09 covid19positive -0.2048 2632\n",
      "12840000 2020-09 weddingplanning -0.0912 789\n",
      "12850000 2020-09 canada -0.5619 3452\n",
      "12880000 2020-09 investing 0.9189 769\n",
      "12900000 2020-09 legaladvice 0.8919 1282\n",
      "12940000 2020-09 maryland -0.9592 568\n",
      "12950000 2020-09 australia -0.8225 1844\n",
      "12960000 2020-09 amitheasshole 0.5231 8126\n",
      "12970000 2020-09 unitedkingdom 0.978 2895\n",
      "12980000 2020-09 amitheasshole -0.8118 8358\n",
      "13020000 2020-08 datingoverthirty -0.8765 54\n",
      "13040000 2020-08 memes 0.9887 190\n",
      "13050000 2020-08 publicfreakout -0.9367 529\n",
      "13070000 2020-08 personalfinance 0.7964 186\n",
      "13100000 2020-08 nfl 0.5719 315\n",
      "13110000 2020-08 trashy 0.0 251\n",
      "13120000 2020-08 canadapolitics -0.7003 127\n",
      "13140000 2020-08 unpopularopinion 0.4215 699\n",
      "13180000 2020-08 relationship_advice 0.9492 1099\n",
      "13190000 2020-08 dataisbeautiful -0.8253 907\n",
      "13200000 2020-08 newjersey 0.1623 224\n",
      "13220000 2020-08 amitheasshole 0.8278 2796\n",
      "13230000 2020-08 nyc -0.4023 870\n",
      "13270000 2020-08 cfb 0.0 807\n",
      "13280000 2020-08 pcmasterrace -0.296 186\n",
      "13310000 2020-08 amitheasshole -0.2912 3899\n",
      "13320000 2020-08 newzealand -0.4337 1687\n",
      "13340000 2020-08 covid19positive 0.4475 1452\n",
      "13370000 2020-08 todayilearned 0.6808 597\n",
      "13380000 2020-08 neoliberal 0.534 1379\n",
      "13390000 2020-08 publicfreakout 0.5859 2400\n",
      "13400000 2020-08 news 0.7391 7740\n",
      "13430000 2020-08 coronavirus -0.8694 13104\n",
      "13460000 2020-08 baseball 0.0 984\n",
      "13470000 2020-08 ddnews 0.9483 4212\n",
      "13490000 2020-08 pics -0.4261 3583\n",
      "13550000 2020-08 chicago -0.4215 924\n",
      "13570000 2020-08 ireland 0.0 2039\n",
      "13600000 2020-08 relationship_advice -0.7884 3445\n",
      "13610000 2020-08 science -0.6249 1286\n",
      "13620000 2020-08 askreddit -0.4939 24224\n",
      "13630000 2020-08 coronavirus 0.3818 21270\n",
      "13640000 2020-08 worldnews 0.2753 10382\n",
      "13650000 2020-08 singapore 0.4588 1220\n",
      "13660000 2020-08 coronavirusdownunder 0.25 2167\n",
      "13670000 2020-08 coronavirus 0.3607 22623\n",
      "13680000 2020-08 worldnews 0.1779 11105\n",
      "13690000 2020-08 coronavirus -0.7922 23470\n",
      "13710000 2020-08 askreddit -0.2023 28287\n",
      "13720000 2020-08 nfl 0.8687 2299\n",
      "13730000 2020-08 pics -0.569 6012\n",
      "13740000 2020-08 cfb -0.059 3118\n",
      "13750000 2020-08 covid19_support 0.9606 727\n",
      "13780000 2020-08 politics 0.0987 23695\n",
      "13790000 2020-08 conspiracy -0.6764 11140\n",
      "13820000 2020-08 donaldtrump 0.8387 1261\n",
      "13830000 2020-08 worldnews 0.0 14521\n",
      "13840000 2020-08 australia -0.5719 2564\n",
      "13860000 2020-07 publicfreakout 0.8866 95\n",
      "13870000 2020-07 ddnews 0.7206 296\n",
      "13880000 2020-07 agedlikemilk -0.5423 85\n",
      "13920000 2020-07 justnomil -0.1969 72\n",
      "13930000 2020-07 coronavirus 0.0 3696\n",
      "14000000 2020-07 futurology -0.296 231\n",
      "14030000 2020-07 adviceanimals -0.9692 367\n",
      "14080000 2020-07 wallstreetbets -0.5574 2110\n",
      "14090000 2020-07 askreddit 0.9032 11399\n",
      "14130000 2020-07 publicfreakout -0.3855 1956\n",
      "14150000 2020-07 whitepeopletwitter 0.7752 1336\n",
      "14180000 2020-07 ddnews 0.8225 3786\n",
      "14200000 2020-07 conspiracy_commons -0.765 202\n",
      "14230000 2020-07 chicago 0.5499 588\n",
      "14240000 2020-07 technology -0.7506 523\n",
      "14260000 2020-07 news -0.1779 5000\n",
      "14270000 2020-07 singapore 0.3804 865\n",
      "14280000 2020-07 conservative -0.8275 2427\n",
      "14290000 2020-07 trump -0.9777 971\n",
      "14300000 2020-07 pregnant 0.6124 582\n",
      "14310000 2020-07 coronavirus -0.8016 19638\n",
      "14320000 2020-07 news -0.875 5703\n",
      "14340000 2020-07 gifs 0.9605 432\n",
      "14350000 2020-07 askreddit -0.0557 18673\n",
      "14380000 2020-07 insanepeoplefacebook 0.3657 2241\n",
      "14390000 2020-07 pregnant 0.1406 697\n",
      "14400000 2020-07 awfuleverything -0.6393 469\n",
      "14420000 2020-07 worldnews 0.0 11342\n",
      "14450000 2020-07 funny -0.8463 2486\n",
      "14460000 2020-07 libertarian -0.9708 1499\n",
      "14480000 2020-07 relationships 0.7425 951\n",
      "14490000 2020-07 worldnews -0.7319 12779\n",
      "14510000 2020-07 ohio 0.642 552\n",
      "14550000 2020-07 iowa -0.508 589\n",
      "14580000 2020-07 coronavirus 0.0258 33155\n",
      "14590000 2020-07 worldnews -0.1139 15377\n",
      "14610000 2020-07 lockdownskepticism -0.6696 5039\n",
      "14630000 2020-07 askreddit 0.0 26180\n",
      "14650000 2020-07 changemyview 0.5499 1052\n",
      "14660000 2020-07 news -0.8905 9506\n",
      "14680000 2020-07 conspiracy -0.6369 10322\n",
      "14700000 2020-07 coronavirusuk 0.2263 1452\n",
      "14710000 2020-07 teenagers 0.0041 2121\n",
      "14720000 2020-07 politics 0.0 31834\n",
      "14730000 2020-07 asktrumpsupporters -0.9721 2602\n",
      "14740000 2020-07 justnomil -0.5848 1117\n",
      "14760000 2020-07 nyc -0.7244 2792\n",
      "14770000 2020-07 coronavirus 0.8977 42797\n",
      "14790000 2020-07 askreddit 0.9671 31088\n",
      "14800000 2020-07 newzealand -0.296 2289\n",
      "14810000 2020-06 ireland 0.9886 13\n",
      "14850000 2020-06 coronavirus -0.8641 2005\n",
      "14860000 2020-06 politicaldiscussion -0.6798 45\n",
      "14900000 2020-06 publicfreakout 0.3612 633\n",
      "14910000 2020-06 coronavirus 0.1937 5194\n",
      "14930000 2020-06 showerthoughts 0.0 97\n",
      "14940000 2020-06 squaredcircle 0.8953 927\n",
      "14950000 2020-06 anxiety -0.8553 310\n",
      "14960000 2020-06 amitheasshole 0.6996 1744\n"
     ]
    },
    {
     "name": "stdout",
     "output_type": "stream",
     "text": [
      "14990000 2020-06 michigan -0.7418 275\n",
      "15020000 2020-06 unitedkingdom 0.8214 535\n",
      "15030000 2020-06 investing 0.5122 578\n",
      "15040000 2020-06 politicalcompassmemes -0.9168 280\n",
      "15060000 2020-06 politics 0.7559 9966\n",
      "15070000 2020-06 portland -0.782 800\n",
      "15080000 2020-06 coronavirus -0.5994 12324\n",
      "15090000 2020-06 publicfreakout -0.7717 1815\n",
      "15130000 2020-06 unpopularopinion -0.2144 1292\n",
      "15150000 2020-06 nba 0.0 1682\n",
      "15170000 2020-06 insanepeoplefacebook 0.8008 1144\n",
      "15230000 2020-06 gifs 0.0 880\n",
      "15240000 2020-06 coronavirus -0.8431 19019\n",
      "15270000 2020-06 coronavirus 0.0772 20247\n",
      "15290000 2020-06 lockdownskepticism -0.5095 3724\n",
      "15310000 2020-06 ama -0.3783 489\n",
      "15340000 2020-06 funny 0.4215 1994\n",
      "15350000 2020-06 gifs -0.6124 2187\n",
      "15360000 2020-06 lifeprotips -0.0284 319\n",
      "15400000 2020-06 singapore 0.5209 2050\n",
      "15410000 2020-06 amitheasshole 0.8465 6415\n",
      "15420000 2020-06 casualconversation 0.957 609\n",
      "15430000 2020-06 pics -0.9707 7727\n",
      "15450000 2020-06 coronavirus -0.434 26476\n",
      "15460000 2020-06 coronavirusca -0.6416 597\n",
      "15470000 2020-06 politics -0.9765 21550\n",
      "15490000 2020-06 politics -0.5574 22095\n",
      "15500000 2020-06 movies -0.5574 1232\n",
      "15520000 2020-05 covid19positive 0.8956 47\n",
      "15550000 2020-05 china_flu 0.5859 112\n",
      "15560000 2020-05 newjersey -0.1779 94\n",
      "15650000 2020-05 askreddit 0.0 4093\n",
      "15680000 2020-05 coronavirusuk -0.1531 506\n",
      "15700000 2020-05 worldnews -0.6966 4390\n",
      "15730000 2020-05 unitedkingdom -0.5076 986\n",
      "15750000 2020-05 coronavirusus 0.9623 633\n",
      "15760000 2020-05 malaysia -0.9251 130\n",
      "15770000 2020-05 politics 0.5551 8198\n",
      "15780000 2020-05 worldnews 0.6369 6694\n",
      "15800000 2020-05 cringetopia 0.2732 161\n",
      "15810000 2020-05 nextfuckinglevel 0.8354 665\n",
      "15830000 2020-05 ddnews -0.7063 5471\n",
      "15840000 2020-05 usps 0.6786 481\n",
      "15850000 2020-05 coronavirus -0.7717 15878\n",
      "15860000 2020-05 covid19positive -0.7986 1784\n",
      "15890000 2020-05 nyc 0.0191 1715\n",
      "15930000 2020-05 canadapolitics -0.9741 503\n",
      "15940000 2020-05 halifax -0.3034 430\n",
      "15950000 2020-05 winnipeg -0.6335 446\n",
      "15980000 2020-05 ddnews 0.8062 7835\n",
      "15990000 2020-05 usps 0.6786 687\n",
      "16030000 2020-05 mma -0.7096 875\n",
      "16040000 2020-05 wallstreetbets -0.9757 5730\n",
      "16060000 2020-05 wayofthebern 0.4939 581\n",
      "16090000 2020-05 worldnews 0.0 15875\n",
      "16100000 2020-05 coronavirus -0.8101 29009\n",
      "16110000 2020-05 wallstreetbets -0.0258 6500\n",
      "16120000 2020-05 casualconversation -0.9858 684\n",
      "16150000 2020-05 coronavirusuk 0.0772 2074\n",
      "16180000 2020-05 television 0.0 435\n",
      "16190000 2020-05 singapore 0.3182 2268\n",
      "16210000 2020-05 leopardsatemyface -0.4927 480\n",
      "16230000 2020-05 coronavirus -0.9906 36259\n",
      "16240000 2020-05 libertarian 0.0 2066\n",
      "16250000 2020-05 army -0.1796 395\n",
      "16260000 2020-04 askreddit 0.9558 295\n",
      "16270000 2020-04 ddnews 0.8316 397\n",
      "16280000 2020-04 politics -0.3939 962\n",
      "16300000 2020-04 wallstreetbets -0.8955 538\n",
      "16340000 2020-04 amitheasshole 0.542 691\n",
      "16360000 2020-04 canada 0.7096 1013\n",
      "16370000 2020-04 economics -0.8434 157\n",
      "16390000 2020-04 askreddit 0.9558 5828\n",
      "16400000 2020-04 coronavirus -0.796 8239\n",
      "16410000 2020-04 unpopularopinion -0.5106 632\n",
      "16420000 2020-04 houston 0.0659 253\n",
      "16440000 2020-04 politics -0.6169 6718\n",
      "16460000 2020-04 wallstreetbets 0.0258 2155\n",
      "16470000 2020-04 justnomil -0.9485 179\n",
      "16480000 2020-04 australia -0.4939 682\n",
      "16500000 2020-04 politics -0.679 9112\n",
      "16520000 2020-04 coronavirus 0.6808 15394\n",
      "16530000 2020-04 victoriabc -0.6369 105\n",
      "16540000 2020-04 ddnews -0.5499 7112\n",
      "16570000 2020-04 coronavirus 0.7845 18613\n",
      "16580000 2020-04 coronavirus -0.4215 19303\n",
      "16590000 2020-04 askreddit -0.9712 14418\n",
      "16620000 2020-04 mademesmile 0.3612 124\n",
      "16630000 2020-04 leopardsatemyface 0.1027 311\n",
      "16640000 2020-04 canada -0.3818 3541\n",
      "16650000 2020-04 newzealand -0.8271 1265\n",
      "16710000 2020-04 coronavirus 0.6243 27362\n",
      "16720000 2020-04 coronavirus -0.8917 28028\n",
      "16730000 2020-04 politics 0.8541 16836\n",
      "16740000 2020-04 coronavirus -0.2079 29307\n",
      "16750000 2020-04 askreddit 0.9558 22573\n",
      "16770000 2020-04 askreddit 0.9558 23848\n",
      "16820000 2020-04 offmychest 0.3818 4087\n",
      "16830000 2020-04 askreddit 0.9105 27830\n",
      "16840000 2020-04 canada 0.0 5791\n",
      "16860000 2020-04 winnipeg 0.6058 614\n",
      "16880000 2020-04 worldnews 0.3187 21228\n",
      "16900000 2020-04 coronavirus 0.6433 40791\n",
      "16920000 2020-04 squaredcircle 0.9279 1270\n",
      "16930000 2020-04 aww 0.0 587\n",
      "16940000 2020-04 offmychest -0.3736 5019\n",
      "16950000 2020-04 publicfreakout -0.6369 3317\n",
      "16960000 2020-04 canadacoronavirus -0.8658 1110\n",
      "16970000 2020-04 insanepeoplefacebook -0.296 3208\n",
      "16980000 2020-04 pics 0.2023 5052\n",
      "16990000 2020-04 funny 0.0 3028\n",
      "17020000 2020-04 seattle -0.2732 474\n",
      "17060000 2020-04 china_flu -0.1318 4044\n",
      "17090000 2020-03 agedlikemilk -0.25 44\n",
      "17100000 2020-03 nextfuckinglevel -0.9711 13\n",
      "17110000 2020-03 politics 0.0701 1028\n",
      "17120000 2020-03 worldnews -0.8658 1224\n",
      "17140000 2020-03 askreddit 0.7901 5336\n",
      "17150000 2020-03 austin -0.7902 152\n",
      "17160000 2020-03 askreddit 0.0 7095\n",
      "17170000 2020-03 askreddit 0.7901 8236\n",
      "17180000 2020-03 askreddit 0.7901 9262\n",
      "17190000 2020-03 coronavirus -0.8427 8111\n",
      "17200000 2020-03 wallstreetbets 0.0 975\n",
      "17210000 2020-03 iamatotalpieceofshit -0.4019 157\n",
      "17220000 2020-03 askreddit 0.6553 11911\n",
      "17230000 2020-03 coronavirusuk -0.9531 426\n",
      "17240000 2020-03 libertarian -0.9627 362\n",
      "17250000 2020-03 canada -0.6249 1880\n",
      "17260000 2020-03 offmychest -0.3736 1366\n",
      "17290000 2020-03 coronaviruswa -0.7684 271\n",
      "17300000 2020-03 politics -0.6377 7332\n",
      "17310000 2020-03 personalfinancecanada -0.5106 805\n",
      "17320000 2020-03 askreddit -0.3612 17026\n",
      "17330000 2020-03 askreddit 0.128 17748\n",
      "17380000 2020-03 worldnews -0.6486 11507\n",
      "17390000 2020-03 gaming -0.0247 419\n",
      "17410000 2020-03 offmychest -0.3736 2682\n",
      "17440000 2020-03 nursing 0.5267 1872\n",
      "17450000 2020-03 neoliberal 0.0772 1487\n",
      "17460000 2020-03 ohio 0.9442 231\n",
      "17470000 2020-03 askreddit 0.0 22940\n",
      "17480000 2020-03 trashy -0.9943 844\n",
      "17500000 2020-03 china_flu 0.4288 3847\n",
      "17510000 2020-03 wallstreetbets 0.0 4119\n",
      "17520000 2020-03 dataisbeautiful -0.9749 2741\n",
      "17530000 2020-03 askreddit 0.2057 24359\n",
      "17540000 2020-03 politics 0.6423 14834\n",
      "17560000 2020-03 askreddit 0.0 25154\n",
      "17580000 2020-03 relationship_advice -0.6031 932\n",
      "17590000 2020-03 coronavirusus -0.25 2746\n",
      "17600000 2020-03 politics 0.0 16910\n",
      "17610000 2020-03 ireland -0.2575 3859\n",
      "17650000 2020-03 china_flu -0.4019 5911\n",
      "17690000 2020-03 china_flu -0.9364 6853\n",
      "17700000 2020-03 soccer 0.0516 1326\n",
      "17710000 2020-03 coronaviruswa -0.6915 1214\n",
      "17720000 2020-03 politics 0.8555 21323\n",
      "17730000 2020-03 coronavirus -0.3875 55694\n",
      "17740000 2020-03 scotland -0.8271 183\n",
      "17750000 2020-02 changemyview -0.8847 2\n",
      "17760000 2020-02 sanfrancisco -0.7717 9\n"
     ]
    },
    {
     "ename": "KeyError",
     "evalue": "'baseball2019-10'",
     "output_type": "error",
     "traceback": [
      "\u001b[1;31m---------------------------------------------------------------------------\u001b[0m",
      "\u001b[1;31mKeyError\u001b[0m                                  Traceback (most recent call last)",
      "\u001b[1;32m~\\AppData\\Local\\Temp/ipykernel_4544/2113743216.py\u001b[0m in \u001b[0;36m<module>\u001b[1;34m\u001b[0m\n\u001b[0;32m     35\u001b[0m         \u001b[0mdate\u001b[0m \u001b[1;33m=\u001b[0m \u001b[0mdatetime\u001b[0m\u001b[1;33m.\u001b[0m\u001b[0mutcfromtimestamp\u001b[0m\u001b[1;33m(\u001b[0m\u001b[0mts\u001b[0m\u001b[1;33m)\u001b[0m\u001b[1;33m.\u001b[0m\u001b[0mstrftime\u001b[0m\u001b[1;33m(\u001b[0m\u001b[1;34m'%Y-%m'\u001b[0m\u001b[1;33m)\u001b[0m\u001b[1;33m\u001b[0m\u001b[1;33m\u001b[0m\u001b[0m\n\u001b[0;32m     36\u001b[0m \u001b[1;33m\u001b[0m\u001b[0m\n\u001b[1;32m---> 37\u001b[1;33m         \u001b[0mlongform\u001b[0m\u001b[1;33m[\u001b[0m\u001b[0msub\u001b[0m\u001b[1;33m+\u001b[0m\u001b[0mdate\u001b[0m\u001b[1;33m]\u001b[0m \u001b[1;33m=\u001b[0m \u001b[0mlongform\u001b[0m\u001b[1;33m[\u001b[0m\u001b[0msub\u001b[0m\u001b[1;33m+\u001b[0m\u001b[0mdate\u001b[0m\u001b[1;33m]\u001b[0m \u001b[1;33m+\u001b[0m \u001b[1;33m[\u001b[0m\u001b[0msent\u001b[0m\u001b[1;33m]\u001b[0m\u001b[1;33m\u001b[0m\u001b[1;33m\u001b[0m\u001b[0m\n\u001b[0m\u001b[0;32m     38\u001b[0m \u001b[1;33m\u001b[0m\u001b[0m\n\u001b[0;32m     39\u001b[0m         \u001b[1;32mif\u001b[0m \u001b[0mline\u001b[0m \u001b[1;33m%\u001b[0m \u001b[1;36m10000\u001b[0m \u001b[1;33m==\u001b[0m \u001b[1;36m0\u001b[0m\u001b[1;33m:\u001b[0m\u001b[1;33m\u001b[0m\u001b[1;33m\u001b[0m\u001b[0m\n",
      "\u001b[1;31mKeyError\u001b[0m: 'baseball2019-10'"
     ]
    }
   ],
   "source": [
    "filename = \"simplified.csv\"\n",
    "\n",
    "dates = ['2020-01', '2020-02', '2020-03', '2020-04', '2020-05', '2020-06',\n",
    "         '2020-07', '2020-08', '2020-09', '2020-10', '2020-11', '2020-12',\n",
    "         '2021-01', '2021-02', '2021-03', '2021-04', '2021-05', '2021-06',\n",
    "         '2021-07', '2021-08', '2021-09', '2021-10']\n",
    "\n",
    "longform = {}\n",
    "i=0\n",
    "for date in dates:\n",
    "    for sub in subs:\n",
    "        longform[sub+date] = []\n",
    "\n",
    "with codecs.open(filename, 'rU', 'utf-8') as csvfile:\n",
    "    datareader = csv.reader(csvfile)\n",
    "    next(datareader)\n",
    "    line = 0\n",
    "    for row in datareader:\n",
    "        try:\n",
    "            sub = row[2]\n",
    "        except:\n",
    "            line += 1\n",
    "            continue\n",
    "            \n",
    "        if sub not in subs:\n",
    "            continue\n",
    "        \n",
    "        \n",
    "        try:\n",
    "            sent = float(row[4])\n",
    "        except:\n",
    "            sent = 0.0\n",
    "        \n",
    "        ts = int(row[3])\n",
    "        date = datetime.utcfromtimestamp(ts).strftime('%Y-%m')\n",
    "        \n",
    "        longform[sub+date] = longform[sub+date] + [sent]\n",
    "        \n",
    "        if line % 10000 == 0:\n",
    "            print(line,date,sub,sent,len(longform[sub+date]))\n"
   ]
  },
  {
   "cell_type": "code",
   "execution_count": 5,
   "id": "2d15bbd6",
   "metadata": {},
   "outputs": [],
   "source": [
    "with open(\"sub_time_series.pickle\",\"wb\") as f:\n",
    "    pickle.dump(longform,f)"
   ]
  },
  {
   "cell_type": "code",
   "execution_count": 6,
   "id": "91d7c0d0",
   "metadata": {},
   "outputs": [],
   "source": [
    "with open(\"SubsForClustering.pickle\",\"wb\") as f:\n",
    "    pickle.dump(subs,f)"
   ]
  },
  {
   "cell_type": "code",
   "execution_count": 84,
   "id": "e580ec62",
   "metadata": {},
   "outputs": [],
   "source": [
    "dat = []\n",
    "df = []\n",
    "\n",
    "for sub in subs:\n",
    "    if subdict[sub] < lim:\n",
    "        continue\n",
    "    if sub in remove:\n",
    "        continue\n",
    "    pos_ratio = pos[sub]/subdict[sub]\n",
    "    neg_ratio = neg[sub]/subdict[sub]\n",
    "    neu_ratio = neutral[sub]/subdict[sub]\n",
    "    dat.append([pos_ratio,neg_ratio,neu_ratio])\n",
    "    df.append([pos_ratio,neg_ratio,neu_ratio,sub])"
   ]
  },
  {
   "cell_type": "code",
   "execution_count": 85,
   "id": "01d44899",
   "metadata": {},
   "outputs": [
    {
     "data": {
      "image/png": "[encoded data removed]",
      "text/plain": [
       "<Figure size 720x720 with 1 Axes>"
      ]
     },
     "metadata": {
      "needs_background": "light"
     },
     "output_type": "display_data"
    }
   ],
   "source": [
    "plt.figure(figsize=(10,10))\n",
    "pca = PCA(n_components=2)\n",
    "x_pca = pca.fit(dat).transform(dat)\n",
    "x = [i[0] for i in x_pca]\n",
    "y = [i[1] for i in x_pca]\n",
    "plt.scatter(x,y,label=subs)\n",
    "\n",
    "for i, txt in enumerate(subs[:len(x)]):\n",
    "    label = txt #+' '+ [str(j)[2:4]for j in dat[i]][0] + [str(j)[2:4]for j in dat[i]][1] + [str(j)[2:4]for j in dat[i]][2]\n",
    "    plt.annotate(label, (x[i], y[i]))"
   ]
  },
  {
   "cell_type": "code",
   "execution_count": 73,
   "id": "4ed5dfe8",
   "metadata": {},
   "outputs": [
    {
     "name": "stdout",
     "output_type": "stream",
     "text": [
      "whereintheworld\n"
     ]
    }
   ],
   "source": [
    "print(subs[np.argmax(y)])"
   ]
  },
  {
   "cell_type": "code",
   "execution_count": 79,
   "id": "817e5a89",
   "metadata": {},
   "outputs": [
    {
     "data": {
      "application/vnd.plotly.v1+json": {
       "config": {
        "plotlyServerURL": "https://plot.ly"
       },
       "data": [
        {
         "a": [
          0.2974465148378192,
          0.23225806451612904,
          0.5244309559939302,
          0.29088173731030875,
          0.28020464384100746,
          0.39539911787598375,
          0.3377454578821802,
          0.33896149770399153,
          0.40030689555960486,
          0.5123465987592447,
          0.2667258207630878,
          0.3483461035320501,
          0.5785846965066811,
          0.35629887054735015,
          0.36215043767913857,
          0.4087165050568241,
          0.4114812360701163,
          0.5117287775515623,
          0.6061337841101183,
          0.36096989154578957,
          0.42321270962047663,
          0.4397044212617983,
          0.33861641499230416,
          0.43103770063456515,
          0.6048316251830161,
          0.330310047600669,
          0.4956565741755925,
          0.3704024466156053,
          0.3241566843209043,
          0.35260967574128665,
          0.2614406779661017,
          0.4269634394041977,
          0.586004772279282,
          0.28101653038414026,
          0.2967299528851985,
          0.354485266691533,
          0.34708964620821314,
          0.5532269379165206,
          0.28330467534594284,
          0.44866162416776123,
          0.38214469920757727,
          0.37963503041413216,
          0.3656580937972769,
          0.35113756829487075,
          0.2860122151050201,
          0.35354002776492366,
          0.3771003463166446,
          0.3629159369527145,
          0.37704547509266795,
          0.5532229658330398,
          0.32753057702408644,
          0.3809145673603505,
          0.3898545275761344,
          0.3446171144038871,
          0.4561442897769795,
          0.31069443993110846,
          0.3840805562215296,
          0.26961093585699264,
          0.40316274220175513,
          0.3618587713742875,
          0.28170758559947157,
          0.27441617233018684,
          0.25479940930347034,
          0.31704775880002384,
          0.32792638228183735,
          0.25055056246651985,
          0.3385208597884824,
          0.3771463201131237,
          0.33593120128997583,
          0.33974286200828746,
          0.32411807055435565,
          0.3805999605289126,
          0.4633018298813593,
          0.47081663326653306,
          0.41989133787278465,
          0.27278350515463917,
          0.4366296779808529,
          0.38894480454124564,
          0.3543536968104518,
          0.25236883043416775,
          0.4144597297133507,
          0.5827148896195397,
          0.3410748424555689,
          0.2949116492146597,
          0.23708685626441198,
          0.2935838769350599,
          0.6207796581628358,
          0.6339716643313094,
          0.6900410439092387,
          0.3048622810798104,
          0.3693131846166147,
          0.20561315816136985,
          0.2550290780818,
          0.33940640611225387,
          0.4150797111983331,
          0.3450069602168657,
          0.31615296385777386,
          0.44859988723924077,
          0.2660804165461383,
          0.3894534071755358,
          0.5950877192982457,
          0.3814482155631508,
          0.3325657665201312,
          0.36924650528469144,
          0.2654530790944179,
          0.5963018490754622,
          0.378128563711662,
          0.3863573407202216,
          0.2760741095671618,
          0.4115962156062842,
          0.391425602887297,
          0.2742314102955678,
          0.35972259447869204,
          0.3297122882495294,
          0.24479613733905578,
          0.4588266595716376,
          0.318046054533192,
          0.2880449083413736,
          0.2516746411483254,
          0.3440430866375708,
          0.2954704374174501,
          0.45151168003187725,
          0.41165461505742235,
          0.3101274357764143,
          0.40312700009143276,
          0.31307291228660333,
          0.23987371014939166,
          0.4623741994510521,
          0.3631499749205818,
          0.5007528926929783,
          0.2558410469198851,
          0.2864518915523097,
          0.4476981654551748,
          0.34315059175622364,
          0.29098494764397903,
          0.35647418667160996,
          0.2761978963770939,
          0.433042212518195,
          0.38875137513751373,
          0.5296725167360231,
          0.3898778760384365,
          0.3616088895844745,
          0.2431796801505174,
          0.3120489579123607,
          0.28868258178603007,
          0.3204404291360813,
          0.351058015147966,
          0.26912757886946065,
          0.343421159964108,
          0.3721905903506143,
          0.2616983737342743,
          0.37840459064091164,
          0.3408274673179141,
          0.31634888552811974,
          0.36423512747875353,
          0.27639666796921036,
          0.23768674136321194,
          0.35703045450337867,
          0.3287829622170005,
          0.32819097314125106,
          0.2605776484534971,
          0.34356899150995795,
          0.37402842294071653,
          0.2824886489139772,
          0.41309652292243443,
          0.3378640776699029,
          0.4687984687984688,
          0.3034884870046447,
          0.35103178189486367,
          0.32795837137766276,
          0.3700015227653419,
          0.3185887309110058,
          0.5743753062224399,
          0.4612476370510397,
          0.5432750624331074,
          0.5388317654780136,
          0.5020144060554267,
          0.36284332354465365,
          0.36445623342175065,
          0.250398137939483,
          0.3233804800115535,
          0.2737009882052917,
          0.39239493965391886,
          0.2674167027260926,
          0.29836160597031147,
          0.3608496565759349,
          0.5475802509369398,
          0.37897595034910786,
          0.25030378735734743,
          0.34838673971996237,
          0.2702037602126193,
          0.3974307906791476,
          0.7043720930232558,
          0.46080652469415495,
          0.2845122515025428,
          0.49642406394615063,
          0.5540985292605163,
          0.37192320315064,
          0.32173992842066623,
          0.3870946989191971,
          0.37371615312791784,
          0.38943456331298115,
          0.32463247361238273,
          0.36367327603708466,
          0.36549966186339283,
          0.31135531135531136,
          0.2652511487878308,
          0.31111491400701635,
          0.3988317497874228,
          0.363601950274068,
          0.3637227390237974,
          0.4538476677819327,
          0.3617893933613125,
          0.47174079487714904,
          0.2962809058799086,
          0.27641707487753675,
          0.3783335240929381,
          0.3567861668033092,
          0.42123749234225033,
          0.32667944657442904,
          0.3132973025611062,
          0.3563207273430699,
          0.3664630379573066,
          0.3081065957893264,
          0.44813011118257834,
          0.36639519931418774,
          0.2381167949298325,
          0.20084894219107938,
          0.33010351184005293,
          0.343396680298292,
          0.3623395666262378,
          0.26284055381866905,
          0.6447963800904978,
          0.32825484764542934,
          0.26527012127894156,
          0.4582207815595174,
          0.3197769182650373,
          0.35911602209944754,
          0.30346398738244057,
          0.3215200610738824,
          0.3414873331517298,
          0.6780299857609515,
          0.38436850728872823,
          0.2798688114946119,
          0.3915475450590429,
          0.3078959776576838,
          0.32742240078164303,
          0.3103172791600091,
          0.41088878548161933,
          0.3338391502276176,
          0.705979381443299,
          0.253322908522283,
          0.2015934932359532,
          0.2935506116574718,
          0.3815740771896766,
          0.29866421943509736
         ],
         "b": [
          0.4157177363699103,
          0.5018717642373557,
          0.26267071320182095,
          0.4249084249084249,
          0.38024399842581663,
          0.26818299749200036,
          0.3641035052303175,
          0.20127163546450016,
          0.28042581758895174,
          0.31266085119063747,
          0.45820763087843835,
          0.4039743350152619,
          0.2594523338726107,
          0.31624674196351,
          0.4385312572623751,
          0.30153268689396306,
          0.3010662008312752,
          0.2426307869345844,
          0.1637285679787491,
          0.30124216850443347,
          0.32391879964695497,
          0.24230004967709887,
          0.4551354049669287,
          0.3058510638297872,
          0.21068814055636895,
          0.3936060723015567,
          0.2417980939529392,
          0.3245554683482638,
          0.3807272598016564,
          0.41416681116698456,
          0.43319209039548023,
          0.1634224779959377,
          0.22704637410519762,
          0.4109653509029943,
          0.3017679712646359,
          0.2811450951137635,
          0.3612250700678338,
          0.2590319186250438,
          0.40415950216981905,
          0.3100230988722315,
          0.3040277582407277,
          0.30372468960919924,
          0.2822239031770045,
          0.3610861942428443,
          0.4426485922836288,
          0.3311995475345776,
          0.34614562401128735,
          0.32697022767075307,
          0.3721182533224844,
          0.22641775272983444,
          0.4446612140766864,
          0.2455093099671413,
          0.42609248922694276,
          0.34521945147171024,
          0.3364765753629696,
          0.361128261787931,
          0.3700951010948613,
          0.47279555355265135,
          0.23025458336953689,
          0.32021849271690944,
          0.44391537304121254,
          0.4314857562423737,
          0.4667733202067438,
          0.3771656411208276,
          0.3765889417453014,
          0.4538122730789834,
          0.35861595929073936,
          0.32415325567301867,
          0.37660127205948224,
          0.3623062950559119,
          0.3903527717782577,
          0.3309157292283402,
          0.29447013874924594,
          0.3159443887775551,
          0.32303257491280934,
          0.44560137457044674,
          0.31154808529155786,
          0.3307701598293007,
          0.2385957229399314,
          0.38092207608541934,
          0.2604690624810618,
          0.1837482386096759,
          0.3424909721730511,
          0.3460405759162304,
          0.35895465026902384,
          0.40046733521565575,
          0.1732760798181359,
          0.17849914370231978,
          0.17441080048529906,
          0.4185244681267876,
          0.3303749900055969,
          0.16315985004559425,
          0.47649918962722854,
          0.4047898912724067,
          0.2972815816252362,
          0.36727965418711994,
          0.3770651829074847,
          0.2785190753617741,
          0.42333815446919293,
          0.22162292318805682,
          0.1900877192982456,
          0.3529131229631985,
          0.377503314493057,
          0.2571599045346062,
          0.4249668759721182,
          0.1771239380309845,
          0.3540003601224416,
          0.2547783933518006,
          0.3643187989139115,
          0.26126204322541446,
          0.2958385738502762,
          0.434424441283499,
          0.26852720450281425,
          0.34638343640763647,
          0.4436695278969957,
          0.2828699392488138,
          0.3468542248771558,
          0.42171739321112184,
          0.4389219802753637,
          0.42919491131952825,
          0.30836764820138296,
          0.29302186581660605,
          0.3319438536792854,
          0.3345694828399973,
          0.3591935631343147,
          0.408418131359852,
          0.47089172955490527,
          0.3439501372369625,
          0.2937635846848353,
          0.29941353621810113,
          0.45694222789658473,
          0.4595873333725975,
          0.2740048459674628,
          0.3959325261869133,
          0.4644688045375218,
          0.33351870732536226,
          0.4620958317101675,
          0.2637762528592223,
          0.2778236156949028,
          0.24696942283336348,
          0.3424447762336817,
          0.3192542452461069,
          0.3053825226920241,
          0.41677732232550085,
          0.3444591806660772,
          0.2453416149068323,
          0.3694073553525416,
          0.34175224350078637,
          0.4288277999836855,
          0.30315403056637696,
          0.4857701749002762,
          0.321991432958862,
          0.30568883781065936,
          0.33309776540260916,
          0.3259915014164306,
          0.4337749576673303,
          0.3004201680672269,
          0.3252954426239625,
          0.2874566409309612,
          0.2982568911407721,
          0.4477260480655243,
          0.3591208442434341,
          0.36901531527388126,
          0.41266822104961753,
          0.3315423959457557,
          0.36443286762964716,
          0.36577236577236577,
          0.39756892973613994,
          0.37558367223979516,
          0.3448012977918037,
          0.29952794274402317,
          0.4426891346322626,
          0.23473787359137677,
          0.2001890359168242,
          0.1422047805922226,
          0.21125938890104282,
          0.21621291661579783,
          0.3196579720158922,
          0.32830617658203864,
          0.22489280901629302,
          0.37136358302719585,
          0.44628626075868666,
          0.3934128253598953,
          0.4464761798411524,
          0.40737232028837184,
          0.3476532688883236,
          0.24979631741893432,
          0.2479635376260667,
          0.4442178431522506,
          0.4451270131163872,
          0.445516290973521,
          0.31248755228042224,
          0.1509767441860465,
          0.25917535115541457,
          0.12269995376791493,
          0.29575094657130835,
          0.26689293427954336,
          0.3127666557269445,
          0.45030742406166835,
          0.3005018013381369,
          0.31746031746031744,
          0.30776037518803645,
          0.36951301673950976,
          0.3594098937538066,
          0.3319981272434063,
          0.39324379324379327,
          0.46453282628215287,
          0.3250620347394541,
          0.30400384487411736,
          0.28475818418582116,
          0.27754822458404227,
          0.2661877583152923,
          0.3379435330026707,
          0.24580636180135032,
          0.456472054851444,
          0.47259155586657337,
          0.30960283850291864,
          0.3137437579190579,
          0.330038799264856,
          0.3894815802633772,
          0.2913380075956763,
          0.34277976593480997,
          0.31560161987782276,
          0.3998740994614255,
          0.27538362583846365,
          0.45023574796399485,
          0.45604345857854234,
          0.16244441449939362,
          0.3481117360684407,
          0.413719830005613,
          0.3183686030303579,
          0.40562751228226884,
          0.13381410256410256,
          0.44857664878882536,
          0.5138552002940096,
          0.3355843688096524,
          0.39341503599087235,
          0.3103636694796916,
          0.4214907412816169,
          0.4319959284078378,
          0.36197221465540724,
          0.14775106792863724,
          0.2968362020911809,
          0.4265188193034515,
          0.3004528100861227,
          0.4123898298937289,
          0.2973889330426477,
          0.31944761469984023,
          0.2847836202885063,
          0.4226100151745068,
          0.14396907216494845,
          0.3959147771696638,
          0.12864138102747116,
          0.42384264811705447,
          0.31077761701268547,
          0.40930903946160907
         ],
         "c": [
          0.28683574879227053,
          0.26587017124651535,
          0.21289833080424886,
          0.28420983778126635,
          0.3395513577331759,
          0.33641788463201594,
          0.2981510368875023,
          0.4597668668315083,
          0.31926728685144334,
          0.17499255005011785,
          0.27506654835847383,
          0.24767956145268796,
          0.16196296962070825,
          0.32745438748913985,
          0.19931830505848633,
          0.2897508080492128,
          0.2874525630986085,
          0.24564043551385323,
          0.2301376479111326,
          0.33778793994977696,
          0.2528684907325684,
          0.31799552906110284,
          0.2062481800407671,
          0.26311123553564764,
          0.18448023426061494,
          0.27608388009777435,
          0.26254533187146833,
          0.3050420850361309,
          0.29511605587743933,
          0.2332235130917288,
          0.30536723163841806,
          0.4096140825998646,
          0.18694885361552027,
          0.30801811871286544,
          0.4015020758501656,
          0.36436963819470347,
          0.291685283723953,
          0.18774114345843565,
          0.3125358224842381,
          0.24131527696000724,
          0.31382754255169504,
          0.3166402799766686,
          0.3521180030257186,
          0.2877762374622849,
          0.2713391926113511,
          0.31526042470049875,
          0.2767540296720681,
          0.3101138353765324,
          0.25083627158484767,
          0.22035928143712574,
          0.22780820889922712,
          0.3735761226725082,
          0.18405298319692281,
          0.31016343412440267,
          0.20737913486005088,
          0.3281772982809606,
          0.24582434268360906,
          0.257593510590356,
          0.36658267442870796,
          0.31792273590880304,
          0.27437704135931595,
          0.2940980714274395,
          0.2784272704897859,
          0.30578660007914854,
          0.29548467597286127,
          0.2956371644544968,
          0.30286318092077824,
          0.2987004242138577,
          0.287467526650542,
          0.29795084293580065,
          0.2855291576673866,
          0.2884843102427472,
          0.24222803136939472,
          0.21323897795591182,
          0.25707608721440606,
          0.2816151202749141,
          0.2518222367275892,
          0.28028503562945367,
          0.4070505802496168,
          0.366709093480413,
          0.3250712078055875,
          0.23353687177078442,
          0.31643418537138,
          0.35904777486910994,
          0.4039584934665642,
          0.3059487878492844,
          0.20594426201902838,
          0.18752919196637086,
          0.13554815560546218,
          0.27661325079340204,
          0.30031182537778844,
          0.6312269917930359,
          0.2684717322909715,
          0.2558037026153394,
          0.2876387071764307,
          0.28771338559601434,
          0.30678185323474144,
          0.27288103739898517,
          0.3105814289846688,
          0.3889236696364074,
          0.21482456140350878,
          0.26563866147365073,
          0.2899309189868118,
          0.3735935901807024,
          0.3095800449334639,
          0.22657421289355323,
          0.2678710761658964,
          0.3588642659279778,
          0.35960709151892667,
          0.32714174116830136,
          0.3127358232624269,
          0.2913441484209332,
          0.3717502010184937,
          0.3239042753428341,
          0.3115343347639485,
          0.2583034011795486,
          0.3350997205896522,
          0.2902376984475046,
          0.3094033785763109,
          0.22676200204290092,
          0.396161914381167,
          0.25546645415151664,
          0.25640153126329224,
          0.3553030813835884,
          0.23767943677425254,
          0.2785089563535447,
          0.28923456029570305,
          0.19367566331198535,
          0.34308644039458286,
          0.19983357108892058,
          0.28721672518353014,
          0.25396077507509274,
          0.2782969885773624,
          0.26091688205686303,
          0.24454624781849912,
          0.3100071060030278,
          0.2617062719127386,
          0.3031815346225827,
          0.33342500916758344,
          0.22335806043061335,
          0.26767734772788176,
          0.3191368651694186,
          0.4514377971574585,
          0.27117371976213844,
          0.3668582375478927,
          0.4342179559570864,
          0.2795346294994925,
          0.389120177629753,
          0.22775104005220653,
          0.3246553790830087,
          0.2525314513654495,
          0.2996039764002263,
          0.3534836948714265,
          0.3505533490692711,
          0.30977337110481584,
          0.2898283743634593,
          0.4618930905695612,
          0.31767410287265885,
          0.38376039685203833,
          0.37355213571797685,
          0.2916963034809786,
          0.29731016424660794,
          0.2569562617854022,
          0.3048431300364053,
          0.2553610811318099,
          0.29770305470044994,
          0.16542916542916544,
          0.29894258325921536,
          0.27338454586534117,
          0.32724033083053355,
          0.330470534490635,
          0.2387221344567316,
          0.19088682018618325,
          0.3385633270321361,
          0.31452015697467,
          0.24990884562094362,
          0.2817726773287755,
          0.31749870443945416,
          0.3072375899962107,
          0.5247090530442239,
          0.30525593696125064,
          0.2800127510360217,
          0.21419223498618584,
          0.28610711743275496,
          0.2942660737413167,
          0.29149707453574153,
          0.2026234316441258,
          0.37306051202482543,
          0.305478369490402,
          0.20648624716365044,
          0.28427994881385965,
          0.2900816570404302,
          0.14465116279069767,
          0.2800181241504304,
          0.5927877947295423,
          0.20782498948254102,
          0.17900853645994036,
          0.3153101411224155,
          0.22795264751766542,
          0.31240349974266596,
          0.3088235294117647,
          0.3028050614989824,
          0.3058545096481075,
          0.27691683020910873,
          0.30250221089320084,
          0.2954008954008954,
          0.2702160249300164,
          0.36382305125352954,
          0.29716440533845984,
          0.35163986554011084,
          0.3587290363921603,
          0.27996457390277507,
          0.3002670736360168,
          0.28245284332150067,
          0.2472470392686474,
          0.2509913692558899,
          0.3120636374041433,
          0.32947007527763283,
          0.24872370839289362,
          0.2838389731621937,
          0.39536468984321743,
          0.3008995067221201,
          0.3179353421648706,
          0.2920193047492481,
          0.276486262978958,
          0.18336905272181742,
          0.30583974649162515,
          0.636706643309527,
          0.32178475209150637,
          0.24288348969609494,
          0.31929183034340436,
          0.3315319338990621,
          0.2213895173453997,
          0.22316850356574527,
          0.2208746784270489,
          0.20619484963083018,
          0.28680804574409036,
          0.3305203084208609,
          0.27504527133594253,
          0.24648401051827976,
          0.29654045219286296,
          0.17421894631041127,
          0.3187952906200909,
          0.2936123692019366,
          0.3079996448548344,
          0.2797141924485873,
          0.3751886661757093,
          0.37023510614015065,
          0.3043275942298744,
          0.24355083459787558,
          0.15005154639175258,
          0.35076231430805316,
          0.6697651257365757,
          0.2826067402254737,
          0.30764830579763786,
          0.2920267411032936
         ],
         "customdata": [
          [
           "aboringdystopia"
          ],
          [
           "actualpublicfreakouts"
          ],
          [
           "advice"
          ],
          [
           "adviceanimals"
          ],
          [
           "agedlikemilk"
          ],
          [
           "airforce"
          ],
          [
           "alberta"
          ],
          [
           "ama"
          ],
          [
           "amcstock"
          ],
          [
           "amitheasshole"
          ],
          [
           "anarcho_capitalism"
          ],
          [
           "antiwork"
          ],
          [
           "anxiety"
          ],
          [
           "army"
          ],
          [
           "askaliberal"
          ],
          [
           "askanamerican"
          ],
          [
           "askdocs"
          ],
          [
           "askmen"
          ],
          [
           "asknyc"
          ],
          [
           "askreddit"
          ],
          [
           "askscience"
          ],
          [
           "askto"
          ],
          [
           "asktrumpsupporters"
          ],
          [
           "askuk"
          ],
          [
           "askwomen"
          ],
          [
           "atheism"
          ],
          [
           "ausfinance"
          ],
          [
           "austin"
          ],
          [
           "australia"
          ],
          [
           "australianpolitics"
          ],
          [
           "awfuleverything"
          ],
          [
           "aww"
          ],
          [
           "babybumps"
          ],
          [
           "badunitedkingdom"
          ],
          [
           "barstoolsports"
          ],
          [
           "baseball"
          ],
          [
           "bayarea"
          ],
          [
           "beyondthebump"
          ],
          [
           "blackpeopletwitter"
          ],
          [
           "blogsnark"
          ],
          [
           "boston"
          ],
          [
           "bravorealhousewives"
          ],
          [
           "brisbane"
          ],
          [
           "britishcolumbia"
          ],
          [
           "byebyejob"
          ],
          [
           "calgary"
          ],
          [
           "canada"
          ],
          [
           "canadacoronavirus"
          ],
          [
           "canadapolitics"
          ],
          [
           "casualconversation"
          ],
          [
           "centrist"
          ],
          [
           "cfb"
          ],
          [
           "changemyview"
          ],
          [
           "chicago"
          ],
          [
           "childfree"
          ],
          [
           "china_flu"
          ],
          [
           "christianity"
          ],
          [
           "collapse"
          ],
          [
           "collegebasketball"
          ],
          [
           "columbus"
          ],
          [
           "conservative"
          ],
          [
           "conspiracy"
          ],
          [
           "conspiracy_commons"
          ],
          [
           "coronavirus"
          ],
          [
           "coronavirusca"
          ],
          [
           "coronaviruscirclejerk"
          ],
          [
           "coronavirusdownunder"
          ],
          [
           "coronavirusma"
          ],
          [
           "coronavirustx"
          ],
          [
           "coronavirusuk"
          ],
          [
           "coronavirusus"
          ],
          [
           "coronaviruswa"
          ],
          [
           "covid19"
          ],
          [
           "covid19_support"
          ],
          [
           "covid19positive"
          ],
          [
           "covidiots"
          ],
          [
           "covidlonghaulers"
          ],
          [
           "covidvaccinated"
          ],
          [
           "cricket"
          ],
          [
           "cringetopia"
          ],
          [
           "cryptocurrency"
          ],
          [
           "cscareerquestions"
          ],
          [
           "dallas"
          ],
          [
           "damnthatsinteresting"
          ],
          [
           "dankmemes"
          ],
          [
           "dataisbeautiful"
          ],
          [
           "dating_advice"
          ],
          [
           "datingoverthirty"
          ],
          [
           "ddnews"
          ],
          [
           "debatevaccines"
          ],
          [
           "denver"
          ],
          [
           "distantsocializing"
          ],
          [
           "donaldtrump"
          ],
          [
           "economics"
          ],
          [
           "edmonton"
          ],
          [
           "enough_sanders_spam"
          ],
          [
           "europe"
          ],
          [
           "exmormon"
          ],
          [
           "facepalm"
          ],
          [
           "fantasyfootball"
          ],
          [
           "financialindependence"
          ],
          [
           "florida"
          ],
          [
           "floridacoronavirus"
          ],
          [
           "formula1"
          ],
          [
           "fuckyoukaren"
          ],
          [
           "funny"
          ],
          [
           "futurology"
          ],
          [
           "gaming"
          ],
          [
           "gifs"
          ],
          [
           "gunners"
          ],
          [
           "halifax"
          ],
          [
           "hermancainaward"
          ],
          [
           "hockey"
          ],
          [
           "houston"
          ],
          [
           "iamatotalpieceofshit"
          ],
          [
           "india"
          ],
          [
           "indiaspeaks"
          ],
          [
           "insaneparents"
          ],
          [
           "insanepeoplefacebook"
          ],
          [
           "intellectualdarkweb"
          ],
          [
           "interestingasfuck"
          ],
          [
           "investing"
          ],
          [
           "iowa"
          ],
          [
           "ireland"
          ],
          [
           "ivermectin"
          ],
          [
           "joerogan"
          ],
          [
           "justiceserved"
          ],
          [
           "justnomil"
          ],
          [
           "leagueoflegends"
          ],
          [
           "legaladvice"
          ],
          [
           "leopardsatemyface"
          ],
          [
           "libertarian"
          ],
          [
           "lifeprotips"
          ],
          [
           "lockdownsceptics"
          ],
          [
           "lockdownskepticism"
          ],
          [
           "losangeles"
          ],
          [
           "louderwithcrowder"
          ],
          [
           "mademesmile"
          ],
          [
           "malaysia"
          ],
          [
           "maryland"
          ],
          [
           "medicine"
          ],
          [
           "melbourne"
          ],
          [
           "memes"
          ],
          [
           "michigan"
          ],
          [
           "mildlyinfuriating"
          ],
          [
           "mildlyinteresting"
          ],
          [
           "minnesota"
          ],
          [
           "mma"
          ],
          [
           "moderatepolitics"
          ],
          [
           "movies"
          ],
          [
           "murderedbywords"
          ],
          [
           "nashville"
          ],
          [
           "nba"
          ],
          [
           "neoliberal"
          ],
          [
           "newjersey"
          ],
          [
           "news"
          ],
          [
           "newsnepal"
          ],
          [
           "newzealand"
          ],
          [
           "nextfuckinglevel"
          ],
          [
           "nfl"
          ],
          [
           "nonewnormal"
          ],
          [
           "northernireland"
          ],
          [
           "nostupidquestions"
          ],
          [
           "nottheonion"
          ],
          [
           "nursing"
          ],
          [
           "nyc"
          ],
          [
           "offmychest"
          ],
          [
           "ohio"
          ],
          [
           "onguardforthee"
          ],
          [
           "ontario"
          ],
          [
           "ottawa"
          ],
          [
           "outoftheloop"
          ],
          [
           "parenting"
          ],
          [
           "pcmasterrace"
          ],
          [
           "pennystocks"
          ],
          [
           "personalfinance"
          ],
          [
           "personalfinancecanada"
          ],
          [
           "perth"
          ],
          [
           "philadelphia"
          ],
          [
           "philippines"
          ],
          [
           "pics"
          ],
          [
           "politicalcompassmemes"
          ],
          [
           "politicaldiscussion"
          ],
          [
           "politicalhumor"
          ],
          [
           "politics"
          ],
          [
           "portland"
          ],
          [
           "pregnant"
          ],
          [
           "ps5"
          ],
          [
           "publicfreakout"
          ],
          [
           "qanoncasualties"
          ],
          [
           "qult_headquarters"
          ],
          [
           "raleigh"
          ],
          [
           "random_acts_of_amazon"
          ],
          [
           "realestate"
          ],
          [
           "redditsessions"
          ],
          [
           "relationship_advice"
          ],
          [
           "relationships"
          ],
          [
           "sacramento"
          ],
          [
           "samharris"
          ],
          [
           "sandiego"
          ],
          [
           "sanfrancisco"
          ],
          [
           "saskatoon"
          ],
          [
           "science"
          ],
          [
           "scotland"
          ],
          [
           "seattle"
          ],
          [
           "seattlewa"
          ],
          [
           "selfawarewolves"
          ],
          [
           "showerthoughts"
          ],
          [
           "singapore"
          ],
          [
           "soccer"
          ],
          [
           "squaredcircle"
          ],
          [
           "starbucks"
          ],
          [
           "stlouis"
          ],
          [
           "stocks"
          ],
          [
           "stupidpol"
          ],
          [
           "subredditdrama"
          ],
          [
           "superstonk"
          ],
          [
           "sydney"
          ],
          [
           "teachers"
          ],
          [
           "technology"
          ],
          [
           "teenagers"
          ],
          [
           "teenmomogandteenmom2"
          ],
          [
           "television"
          ],
          [
           "texas"
          ],
          [
           "thebachelor"
          ],
          [
           "themotte"
          ],
          [
           "therightcantmeme"
          ],
          [
           "theyoushow"
          ],
          [
           "todayilearned"
          ],
          [
           "tooafraidtoask"
          ],
          [
           "toronto"
          ],
          [
           "trashy"
          ],
          [
           "travel"
          ],
          [
           "trueoffmychest"
          ],
          [
           "trump"
          ],
          [
           "twoxchromosomes"
          ],
          [
           "ukpolitics"
          ],
          [
           "unemployment"
          ],
          [
           "unitedkingdom"
          ],
          [
           "unpopularopinion"
          ],
          [
           "upliftingnews"
          ],
          [
           "usps"
          ],
          [
           "vancouver"
          ],
          [
           "vaxxhappened"
          ],
          [
           "victoriabc"
          ],
          [
           "videos"
          ],
          [
           "wallstreetbets"
          ],
          [
           "walmart"
          ],
          [
           "washingtondc"
          ],
          [
           "wayofthebern"
          ],
          [
           "weddingplanning"
          ],
          [
           "whatcouldgowrong"
          ],
          [
           "whereintheworld"
          ],
          [
           "whitepeopletwitter"
          ],
          [
           "winnipeg"
          ],
          [
           "worldnews"
          ]
         ],
         "hovertemplate": "Positive=%{a}<br>Negative=%{b}<br>Neutral=%{c}<br>Name=%{customdata[0]}<extra></extra>",
         "legendgroup": "",
         "marker": {
          "color": "#636efa",
          "symbol": "circle"
         },
         "mode": "markers",
         "name": "",
         "showlegend": false,
         "subplot": "ternary",
         "type": "scatterternary"
        }
       ],
       "layout": {
        "legend": {
         "tracegroupgap": 0
        },
        "margin": {
         "t": 60
        },
        "template": {
         "data": {
          "bar": [
           {
            "error_x": {
             "color": "#2a3f5f"
            },
            "error_y": {
             "color": "#2a3f5f"
            },
            "marker": {
             "line": {
              "color": "#E5ECF6",
              "width": 0.5
             },
             "pattern": {
              "fillmode": "overlay",
              "size": 10,
              "solidity": 0.2
             }
            },
            "type": "bar"
           }
          ],
          "barpolar": [
           {
            "marker": {
             "line": {
              "color": "#E5ECF6",
              "width": 0.5
             },
             "pattern": {
              "fillmode": "overlay",
              "size": 10,
              "solidity": 0.2
             }
            },
            "type": "barpolar"
           }
          ],
          "carpet": [
           {
            "aaxis": {
             "endlinecolor": "#2a3f5f",
             "gridcolor": "white",
             "linecolor": "white",
             "minorgridcolor": "white",
             "startlinecolor": "#2a3f5f"
            },
            "baxis": {
             "endlinecolor": "#2a3f5f",
             "gridcolor": "white",
             "linecolor": "white",
             "minorgridcolor": "white",
             "startlinecolor": "#2a3f5f"
            },
            "type": "carpet"
           }
          ],
          "choropleth": [
           {
            "colorbar": {
             "outlinewidth": 0,
             "ticks": ""
            },
            "type": "choropleth"
           }
          ],
          "contour": [
           {
            "colorbar": {
             "outlinewidth": 0,
             "ticks": ""
            },
            "colorscale": [
             [
              0,
              "#0d0887"
             ],
             [
              0.1111111111111111,
              "#46039f"
             ],
             [
              0.2222222222222222,
              "#7201a8"
             ],
             [
              0.3333333333333333,
              "#9c179e"
             ],
             [
              0.4444444444444444,
              "#bd3786"
             ],
             [
              0.5555555555555556,
              "#d8576b"
             ],
             [
              0.6666666666666666,
              "#ed7953"
             ],
             [
              0.7777777777777778,
              "#fb9f3a"
             ],
             [
              0.8888888888888888,
              "#fdca26"
             ],
             [
              1,
              "#f0f921"
             ]
            ],
            "type": "contour"
           }
          ],
          "contourcarpet": [
           {
            "colorbar": {
             "outlinewidth": 0,
             "ticks": ""
            },
            "type": "contourcarpet"
           }
          ],
          "heatmap": [
           {
            "colorbar": {
             "outlinewidth": 0,
             "ticks": ""
            },
            "colorscale": [
             [
              0,
              "#0d0887"
             ],
             [
              0.1111111111111111,
              "#46039f"
             ],
             [
              0.2222222222222222,
              "#7201a8"
             ],
             [
              0.3333333333333333,
              "#9c179e"
             ],
             [
              0.4444444444444444,
              "#bd3786"
             ],
             [
              0.5555555555555556,
              "#d8576b"
             ],
             [
              0.6666666666666666,
              "#ed7953"
             ],
             [
              0.7777777777777778,
              "#fb9f3a"
             ],
             [
              0.8888888888888888,
              "#fdca26"
             ],
             [
              1,
              "#f0f921"
             ]
            ],
            "type": "heatmap"
           }
          ],
          "heatmapgl": [
           {
            "colorbar": {
             "outlinewidth": 0,
             "ticks": ""
            },
            "colorscale": [
             [
              0,
              "#0d0887"
             ],
             [
              0.1111111111111111,
              "#46039f"
             ],
             [
              0.2222222222222222,
              "#7201a8"
             ],
             [
              0.3333333333333333,
              "#9c179e"
             ],
             [
              0.4444444444444444,
              "#bd3786"
             ],
             [
              0.5555555555555556,
              "#d8576b"
             ],
             [
              0.6666666666666666,
              "#ed7953"
             ],
             [
              0.7777777777777778,
              "#fb9f3a"
             ],
             [
              0.8888888888888888,
              "#fdca26"
             ],
             [
              1,
              "#f0f921"
             ]
            ],
            "type": "heatmapgl"
           }
          ],
          "histogram": [
           {
            "marker": {
             "pattern": {
              "fillmode": "overlay",
              "size": 10,
              "solidity": 0.2
             }
            },
            "type": "histogram"
           }
          ],
          "histogram2d": [
           {
            "colorbar": {
             "outlinewidth": 0,
             "ticks": ""
            },
            "colorscale": [
             [
              0,
              "#0d0887"
             ],
             [
              0.1111111111111111,
              "#46039f"
             ],
             [
              0.2222222222222222,
              "#7201a8"
             ],
             [
              0.3333333333333333,
              "#9c179e"
             ],
             [
              0.4444444444444444,
              "#bd3786"
             ],
             [
              0.5555555555555556,
              "#d8576b"
             ],
             [
              0.6666666666666666,
              "#ed7953"
             ],
             [
              0.7777777777777778,
              "#fb9f3a"
             ],
             [
              0.8888888888888888,
              "#fdca26"
             ],
             [
              1,
              "#f0f921"
             ]
            ],
            "type": "histogram2d"
           }
          ],
          "histogram2dcontour": [
           {
            "colorbar": {
             "outlinewidth": 0,
             "ticks": ""
            },
            "colorscale": [
             [
              0,
              "#0d0887"
             ],
             [
              0.1111111111111111,
              "#46039f"
             ],
             [
              0.2222222222222222,
              "#7201a8"
             ],
             [
              0.3333333333333333,
              "#9c179e"
             ],
             [
              0.4444444444444444,
              "#bd3786"
             ],
             [
              0.5555555555555556,
              "#d8576b"
             ],
             [
              0.6666666666666666,
              "#ed7953"
             ],
             [
              0.7777777777777778,
              "#fb9f3a"
             ],
             [
              0.8888888888888888,
              "#fdca26"
             ],
             [
              1,
              "#f0f921"
             ]
            ],
            "type": "histogram2dcontour"
           }
          ],
          "mesh3d": [
           {
            "colorbar": {
             "outlinewidth": 0,
             "ticks": ""
            },
            "type": "mesh3d"
           }
          ],
          "parcoords": [
           {
            "line": {
             "colorbar": {
              "outlinewidth": 0,
              "ticks": ""
             }
            },
            "type": "parcoords"
           }
          ],
          "pie": [
           {
            "automargin": true,
            "type": "pie"
           }
          ],
          "scatter": [
           {
            "marker": {
             "colorbar": {
              "outlinewidth": 0,
              "ticks": ""
             }
            },
            "type": "scatter"
           }
          ],
          "scatter3d": [
           {
            "line": {
             "colorbar": {
              "outlinewidth": 0,
              "ticks": ""
             }
            },
            "marker": {
             "colorbar": {
              "outlinewidth": 0,
              "ticks": ""
             }
            },
            "type": "scatter3d"
           }
          ],
          "scattercarpet": [
           {
            "marker": {
             "colorbar": {
              "outlinewidth": 0,
              "ticks": ""
             }
            },
            "type": "scattercarpet"
           }
          ],
          "scattergeo": [
           {
            "marker": {
             "colorbar": {
              "outlinewidth": 0,
              "ticks": ""
             }
            },
            "type": "scattergeo"
           }
          ],
          "scattergl": [
           {
            "marker": {
             "colorbar": {
              "outlinewidth": 0,
              "ticks": ""
             }
            },
            "type": "scattergl"
           }
          ],
          "scattermapbox": [
           {
            "marker": {
             "colorbar": {
              "outlinewidth": 0,
              "ticks": ""
             }
            },
            "type": "scattermapbox"
           }
          ],
          "scatterpolar": [
           {
            "marker": {
             "colorbar": {
              "outlinewidth": 0,
              "ticks": ""
             }
            },
            "type": "scatterpolar"
           }
          ],
          "scatterpolargl": [
           {
            "marker": {
             "colorbar": {
              "outlinewidth": 0,
              "ticks": ""
             }
            },
            "type": "scatterpolargl"
           }
          ],
          "scatterternary": [
           {
            "marker": {
             "colorbar": {
              "outlinewidth": 0,
              "ticks": ""
             }
            },
            "type": "scatterternary"
           }
          ],
          "surface": [
           {
            "colorbar": {
             "outlinewidth": 0,
             "ticks": ""
            },
            "colorscale": [
             [
              0,
              "#0d0887"
             ],
             [
              0.1111111111111111,
              "#46039f"
             ],
             [
              0.2222222222222222,
              "#7201a8"
             ],
             [
              0.3333333333333333,
              "#9c179e"
             ],
             [
              0.4444444444444444,
              "#bd3786"
             ],
             [
              0.5555555555555556,
              "#d8576b"
             ],
             [
              0.6666666666666666,
              "#ed7953"
             ],
             [
              0.7777777777777778,
              "#fb9f3a"
             ],
             [
              0.8888888888888888,
              "#fdca26"
             ],
             [
              1,
              "#f0f921"
             ]
            ],
            "type": "surface"
           }
          ],
          "table": [
           {
            "cells": {
             "fill": {
              "color": "#EBF0F8"
             },
             "line": {
              "color": "white"
             }
            },
            "header": {
             "fill": {
              "color": "#C8D4E3"
             },
             "line": {
              "color": "white"
             }
            },
            "type": "table"
           }
          ]
         },
         "layout": {
          "annotationdefaults": {
           "arrowcolor": "#2a3f5f",
           "arrowhead": 0,
           "arrowwidth": 1
          },
          "autotypenumbers": "strict",
          "coloraxis": {
           "colorbar": {
            "outlinewidth": 0,
            "ticks": ""
           }
          },
          "colorscale": {
           "diverging": [
            [
             0,
             "#8e0152"
            ],
            [
             0.1,
             "#c51b7d"
            ],
            [
             0.2,
             "#de77ae"
            ],
            [
             0.3,
             "#f1b6da"
            ],
            [
             0.4,
             "#fde0ef"
            ],
            [
             0.5,
             "#f7f7f7"
            ],
            [
             0.6,
             "#e6f5d0"
            ],
            [
             0.7,
             "#b8e186"
            ],
            [
             0.8,
             "#7fbc41"
            ],
            [
             0.9,
             "#4d9221"
            ],
            [
             1,
             "#276419"
            ]
           ],
           "sequential": [
            [
             0,
             "#0d0887"
            ],
            [
             0.1111111111111111,
             "#46039f"
            ],
            [
             0.2222222222222222,
             "#7201a8"
            ],
            [
             0.3333333333333333,
             "#9c179e"
            ],
            [
             0.4444444444444444,
             "#bd3786"
            ],
            [
             0.5555555555555556,
             "#d8576b"
            ],
            [
             0.6666666666666666,
             "#ed7953"
            ],
            [
             0.7777777777777778,
             "#fb9f3a"
            ],
            [
             0.8888888888888888,
             "#fdca26"
            ],
            [
             1,
             "#f0f921"
            ]
           ],
           "sequentialminus": [
            [
             0,
             "#0d0887"
            ],
            [
             0.1111111111111111,
             "#46039f"
            ],
            [
             0.2222222222222222,
             "#7201a8"
            ],
            [
             0.3333333333333333,
             "#9c179e"
            ],
            [
             0.4444444444444444,
             "#bd3786"
            ],
            [
             0.5555555555555556,
             "#d8576b"
            ],
            [
             0.6666666666666666,
             "#ed7953"
            ],
            [
             0.7777777777777778,
             "#fb9f3a"
            ],
            [
             0.8888888888888888,
             "#fdca26"
            ],
            [
             1,
             "#f0f921"
            ]
           ]
          },
          "colorway": [
           "#636efa",
           "#EF553B",
           "#00cc96",
           "#ab63fa",
           "#FFA15A",
           "#19d3f3",
           "#FF6692",
           "#B6E880",
           "#FF97FF",
           "#FECB52"
          ],
          "font": {
           "color": "#2a3f5f"
          },
          "geo": {
           "bgcolor": "white",
           "lakecolor": "white",
           "landcolor": "#E5ECF6",
           "showlakes": true,
           "showland": true,
           "subunitcolor": "white"
          },
          "hoverlabel": {
           "align": "left"
          },
          "hovermode": "closest",
          "mapbox": {
           "style": "light"
          },
          "paper_bgcolor": "white",
          "plot_bgcolor": "#E5ECF6",
          "polar": {
           "angularaxis": {
            "gridcolor": "white",
            "linecolor": "white",
            "ticks": ""
           },
           "bgcolor": "#E5ECF6",
           "radialaxis": {
            "gridcolor": "white",
            "linecolor": "white",
            "ticks": ""
           }
          },
          "scene": {
           "xaxis": {
            "backgroundcolor": "#E5ECF6",
            "gridcolor": "white",
            "gridwidth": 2,
            "linecolor": "white",
            "showbackground": true,
            "ticks": "",
            "zerolinecolor": "white"
           },
           "yaxis": {
            "backgroundcolor": "#E5ECF6",
            "gridcolor": "white",
            "gridwidth": 2,
            "linecolor": "white",
            "showbackground": true,
            "ticks": "",
            "zerolinecolor": "white"
           },
           "zaxis": {
            "backgroundcolor": "#E5ECF6",
            "gridcolor": "white",
            "gridwidth": 2,
            "linecolor": "white",
            "showbackground": true,
            "ticks": "",
            "zerolinecolor": "white"
           }
          },
          "shapedefaults": {
           "line": {
            "color": "#2a3f5f"
           }
          },
          "ternary": {
           "aaxis": {
            "gridcolor": "white",
            "linecolor": "white",
            "ticks": ""
           },
           "baxis": {
            "gridcolor": "white",
            "linecolor": "white",
            "ticks": ""
           },
           "bgcolor": "#E5ECF6",
           "caxis": {
            "gridcolor": "white",
            "linecolor": "white",
            "ticks": ""
           }
          },
          "title": {
           "x": 0.05
          },
          "xaxis": {
           "automargin": true,
           "gridcolor": "white",
           "linecolor": "white",
           "ticks": "",
           "title": {
            "standoff": 15
           },
           "zerolinecolor": "white",
           "zerolinewidth": 2
          },
          "yaxis": {
           "automargin": true,
           "gridcolor": "white",
           "linecolor": "white",
           "ticks": "",
           "title": {
            "standoff": 15
           },
           "zerolinecolor": "white",
           "zerolinewidth": 2
          }
         }
        },
        "ternary": {
         "aaxis": {
          "title": {
           "text": "Positive"
          }
         },
         "baxis": {
          "title": {
           "text": "Negative"
          }
         },
         "caxis": {
          "title": {
           "text": "Neutral"
          }
         },
         "domain": {
          "x": [
           0,
           1
          ],
          "y": [
           0,
           1
          ]
         }
        }
       }
      },
      "text/html": [
       "<div>                            <div id=\"54168a59-045c-4ebe-8e69-31ffd2f2fa5d\" class=\"plotly-graph-div\" style=\"height:525px; width:100%;\"></div>            <script type=\"text/javascript\">                require([\"plotly\"], function(Plotly) {                    window.PLOTLYENV=window.PLOTLYENV || {};                                    if (document.getElementById(\"54168a59-045c-4ebe-8e69-31ffd2f2fa5d\")) {                    Plotly.newPlot(                        \"54168a59-045c-4ebe-8e69-31ffd2f2fa5d\",                        [{\"a\":[0.2974465148378192,0.23225806451612904,0.5244309559939302,0.29088173731030875,0.28020464384100746,0.39539911787598375,0.3377454578821802,0.33896149770399153,0.40030689555960486,0.5123465987592447,0.2667258207630878,0.3483461035320501,0.5785846965066811,0.35629887054735015,0.36215043767913857,0.4087165050568241,0.4114812360701163,0.5117287775515623,0.6061337841101183,0.36096989154578957,0.42321270962047663,0.4397044212617983,0.33861641499230416,0.43103770063456515,0.6048316251830161,0.330310047600669,0.4956565741755925,0.3704024466156053,0.3241566843209043,0.35260967574128665,0.2614406779661017,0.4269634394041977,0.586004772279282,0.28101653038414026,0.2967299528851985,0.354485266691533,0.34708964620821314,0.5532269379165206,0.28330467534594284,0.44866162416776123,0.38214469920757727,0.37963503041413216,0.3656580937972769,0.35113756829487075,0.2860122151050201,0.35354002776492366,0.3771003463166446,0.3629159369527145,0.37704547509266795,0.5532229658330398,0.32753057702408644,0.3809145673603505,0.3898545275761344,0.3446171144038871,0.4561442897769795,0.31069443993110846,0.3840805562215296,0.26961093585699264,0.40316274220175513,0.3618587713742875,0.28170758559947157,0.27441617233018684,0.25479940930347034,0.31704775880002384,0.32792638228183735,0.25055056246651985,0.3385208597884824,0.3771463201131237,0.33593120128997583,0.33974286200828746,0.32411807055435565,0.3805999605289126,0.4633018298813593,0.47081663326653306,0.41989133787278465,0.27278350515463917,0.4366296779808529,0.38894480454124564,0.3543536968104518,0.25236883043416775,0.4144597297133507,0.5827148896195397,0.3410748424555689,0.2949116492146597,0.23708685626441198,0.2935838769350599,0.6207796581628358,0.6339716643313094,0.6900410439092387,0.3048622810798104,0.3693131846166147,0.20561315816136985,0.2550290780818,0.33940640611225387,0.4150797111983331,0.3450069602168657,0.31615296385777386,0.44859988723924077,0.2660804165461383,0.3894534071755358,0.5950877192982457,0.3814482155631508,0.3325657665201312,0.36924650528469144,0.2654530790944179,0.5963018490754622,0.378128563711662,0.3863573407202216,0.2760741095671618,0.4115962156062842,0.391425602887297,0.2742314102955678,0.35972259447869204,0.3297122882495294,0.24479613733905578,0.4588266595716376,0.318046054533192,0.2880449083413736,0.2516746411483254,0.3440430866375708,0.2954704374174501,0.45151168003187725,0.41165461505742235,0.3101274357764143,0.40312700009143276,0.31307291228660333,0.23987371014939166,0.4623741994510521,0.3631499749205818,0.5007528926929783,0.2558410469198851,0.2864518915523097,0.4476981654551748,0.34315059175622364,0.29098494764397903,0.35647418667160996,0.2761978963770939,0.433042212518195,0.38875137513751373,0.5296725167360231,0.3898778760384365,0.3616088895844745,0.2431796801505174,0.3120489579123607,0.28868258178603007,0.3204404291360813,0.351058015147966,0.26912757886946065,0.343421159964108,0.3721905903506143,0.2616983737342743,0.37840459064091164,0.3408274673179141,0.31634888552811974,0.36423512747875353,0.27639666796921036,0.23768674136321194,0.35703045450337867,0.3287829622170005,0.32819097314125106,0.2605776484534971,0.34356899150995795,0.37402842294071653,0.2824886489139772,0.41309652292243443,0.3378640776699029,0.4687984687984688,0.3034884870046447,0.35103178189486367,0.32795837137766276,0.3700015227653419,0.3185887309110058,0.5743753062224399,0.4612476370510397,0.5432750624331074,0.5388317654780136,0.5020144060554267,0.36284332354465365,0.36445623342175065,0.250398137939483,0.3233804800115535,0.2737009882052917,0.39239493965391886,0.2674167027260926,0.29836160597031147,0.3608496565759349,0.5475802509369398,0.37897595034910786,0.25030378735734743,0.34838673971996237,0.2702037602126193,0.3974307906791476,0.7043720930232558,0.46080652469415495,0.2845122515025428,0.49642406394615063,0.5540985292605163,0.37192320315064,0.32173992842066623,0.3870946989191971,0.37371615312791784,0.38943456331298115,0.32463247361238273,0.36367327603708466,0.36549966186339283,0.31135531135531136,0.2652511487878308,0.31111491400701635,0.3988317497874228,0.363601950274068,0.3637227390237974,0.4538476677819327,0.3617893933613125,0.47174079487714904,0.2962809058799086,0.27641707487753675,0.3783335240929381,0.3567861668033092,0.42123749234225033,0.32667944657442904,0.3132973025611062,0.3563207273430699,0.3664630379573066,0.3081065957893264,0.44813011118257834,0.36639519931418774,0.2381167949298325,0.20084894219107938,0.33010351184005293,0.343396680298292,0.3623395666262378,0.26284055381866905,0.6447963800904978,0.32825484764542934,0.26527012127894156,0.4582207815595174,0.3197769182650373,0.35911602209944754,0.30346398738244057,0.3215200610738824,0.3414873331517298,0.6780299857609515,0.38436850728872823,0.2798688114946119,0.3915475450590429,0.3078959776576838,0.32742240078164303,0.3103172791600091,0.41088878548161933,0.3338391502276176,0.705979381443299,0.253322908522283,0.2015934932359532,0.2935506116574718,0.3815740771896766,0.29866421943509736],\"b\":[0.4157177363699103,0.5018717642373557,0.26267071320182095,0.4249084249084249,0.38024399842581663,0.26818299749200036,0.3641035052303175,0.20127163546450016,0.28042581758895174,0.31266085119063747,0.45820763087843835,0.4039743350152619,0.2594523338726107,0.31624674196351,0.4385312572623751,0.30153268689396306,0.3010662008312752,0.2426307869345844,0.1637285679787491,0.30124216850443347,0.32391879964695497,0.24230004967709887,0.4551354049669287,0.3058510638297872,0.21068814055636895,0.3936060723015567,0.2417980939529392,0.3245554683482638,0.3807272598016564,0.41416681116698456,0.43319209039548023,0.1634224779959377,0.22704637410519762,0.4109653509029943,0.3017679712646359,0.2811450951137635,0.3612250700678338,0.2590319186250438,0.40415950216981905,0.3100230988722315,0.3040277582407277,0.30372468960919924,0.2822239031770045,0.3610861942428443,0.4426485922836288,0.3311995475345776,0.34614562401128735,0.32697022767075307,0.3721182533224844,0.22641775272983444,0.4446612140766864,0.2455093099671413,0.42609248922694276,0.34521945147171024,0.3364765753629696,0.361128261787931,0.3700951010948613,0.47279555355265135,0.23025458336953689,0.32021849271690944,0.44391537304121254,0.4314857562423737,0.4667733202067438,0.3771656411208276,0.3765889417453014,0.4538122730789834,0.35861595929073936,0.32415325567301867,0.37660127205948224,0.3623062950559119,0.3903527717782577,0.3309157292283402,0.29447013874924594,0.3159443887775551,0.32303257491280934,0.44560137457044674,0.31154808529155786,0.3307701598293007,0.2385957229399314,0.38092207608541934,0.2604690624810618,0.1837482386096759,0.3424909721730511,0.3460405759162304,0.35895465026902384,0.40046733521565575,0.1732760798181359,0.17849914370231978,0.17441080048529906,0.4185244681267876,0.3303749900055969,0.16315985004559425,0.47649918962722854,0.4047898912724067,0.2972815816252362,0.36727965418711994,0.3770651829074847,0.2785190753617741,0.42333815446919293,0.22162292318805682,0.1900877192982456,0.3529131229631985,0.377503314493057,0.2571599045346062,0.4249668759721182,0.1771239380309845,0.3540003601224416,0.2547783933518006,0.3643187989139115,0.26126204322541446,0.2958385738502762,0.434424441283499,0.26852720450281425,0.34638343640763647,0.4436695278969957,0.2828699392488138,0.3468542248771558,0.42171739321112184,0.4389219802753637,0.42919491131952825,0.30836764820138296,0.29302186581660605,0.3319438536792854,0.3345694828399973,0.3591935631343147,0.408418131359852,0.47089172955490527,0.3439501372369625,0.2937635846848353,0.29941353621810113,0.45694222789658473,0.4595873333725975,0.2740048459674628,0.3959325261869133,0.4644688045375218,0.33351870732536226,0.4620958317101675,0.2637762528592223,0.2778236156949028,0.24696942283336348,0.3424447762336817,0.3192542452461069,0.3053825226920241,0.41677732232550085,0.3444591806660772,0.2453416149068323,0.3694073553525416,0.34175224350078637,0.4288277999836855,0.30315403056637696,0.4857701749002762,0.321991432958862,0.30568883781065936,0.33309776540260916,0.3259915014164306,0.4337749576673303,0.3004201680672269,0.3252954426239625,0.2874566409309612,0.2982568911407721,0.4477260480655243,0.3591208442434341,0.36901531527388126,0.41266822104961753,0.3315423959457557,0.36443286762964716,0.36577236577236577,0.39756892973613994,0.37558367223979516,0.3448012977918037,0.29952794274402317,0.4426891346322626,0.23473787359137677,0.2001890359168242,0.1422047805922226,0.21125938890104282,0.21621291661579783,0.3196579720158922,0.32830617658203864,0.22489280901629302,0.37136358302719585,0.44628626075868666,0.3934128253598953,0.4464761798411524,0.40737232028837184,0.3476532688883236,0.24979631741893432,0.2479635376260667,0.4442178431522506,0.4451270131163872,0.445516290973521,0.31248755228042224,0.1509767441860465,0.25917535115541457,0.12269995376791493,0.29575094657130835,0.26689293427954336,0.3127666557269445,0.45030742406166835,0.3005018013381369,0.31746031746031744,0.30776037518803645,0.36951301673950976,0.3594098937538066,0.3319981272434063,0.39324379324379327,0.46453282628215287,0.3250620347394541,0.30400384487411736,0.28475818418582116,0.27754822458404227,0.2661877583152923,0.3379435330026707,0.24580636180135032,0.456472054851444,0.47259155586657337,0.30960283850291864,0.3137437579190579,0.330038799264856,0.3894815802633772,0.2913380075956763,0.34277976593480997,0.31560161987782276,0.3998740994614255,0.27538362583846365,0.45023574796399485,0.45604345857854234,0.16244441449939362,0.3481117360684407,0.413719830005613,0.3183686030303579,0.40562751228226884,0.13381410256410256,0.44857664878882536,0.5138552002940096,0.3355843688096524,0.39341503599087235,0.3103636694796916,0.4214907412816169,0.4319959284078378,0.36197221465540724,0.14775106792863724,0.2968362020911809,0.4265188193034515,0.3004528100861227,0.4123898298937289,0.2973889330426477,0.31944761469984023,0.2847836202885063,0.4226100151745068,0.14396907216494845,0.3959147771696638,0.12864138102747116,0.42384264811705447,0.31077761701268547,0.40930903946160907],\"c\":[0.28683574879227053,0.26587017124651535,0.21289833080424886,0.28420983778126635,0.3395513577331759,0.33641788463201594,0.2981510368875023,0.4597668668315083,0.31926728685144334,0.17499255005011785,0.27506654835847383,0.24767956145268796,0.16196296962070825,0.32745438748913985,0.19931830505848633,0.2897508080492128,0.2874525630986085,0.24564043551385323,0.2301376479111326,0.33778793994977696,0.2528684907325684,0.31799552906110284,0.2062481800407671,0.26311123553564764,0.18448023426061494,0.27608388009777435,0.26254533187146833,0.3050420850361309,0.29511605587743933,0.2332235130917288,0.30536723163841806,0.4096140825998646,0.18694885361552027,0.30801811871286544,0.4015020758501656,0.36436963819470347,0.291685283723953,0.18774114345843565,0.3125358224842381,0.24131527696000724,0.31382754255169504,0.3166402799766686,0.3521180030257186,0.2877762374622849,0.2713391926113511,0.31526042470049875,0.2767540296720681,0.3101138353765324,0.25083627158484767,0.22035928143712574,0.22780820889922712,0.3735761226725082,0.18405298319692281,0.31016343412440267,0.20737913486005088,0.3281772982809606,0.24582434268360906,0.257593510590356,0.36658267442870796,0.31792273590880304,0.27437704135931595,0.2940980714274395,0.2784272704897859,0.30578660007914854,0.29548467597286127,0.2956371644544968,0.30286318092077824,0.2987004242138577,0.287467526650542,0.29795084293580065,0.2855291576673866,0.2884843102427472,0.24222803136939472,0.21323897795591182,0.25707608721440606,0.2816151202749141,0.2518222367275892,0.28028503562945367,0.4070505802496168,0.366709093480413,0.3250712078055875,0.23353687177078442,0.31643418537138,0.35904777486910994,0.4039584934665642,0.3059487878492844,0.20594426201902838,0.18752919196637086,0.13554815560546218,0.27661325079340204,0.30031182537778844,0.6312269917930359,0.2684717322909715,0.2558037026153394,0.2876387071764307,0.28771338559601434,0.30678185323474144,0.27288103739898517,0.3105814289846688,0.3889236696364074,0.21482456140350878,0.26563866147365073,0.2899309189868118,0.3735935901807024,0.3095800449334639,0.22657421289355323,0.2678710761658964,0.3588642659279778,0.35960709151892667,0.32714174116830136,0.3127358232624269,0.2913441484209332,0.3717502010184937,0.3239042753428341,0.3115343347639485,0.2583034011795486,0.3350997205896522,0.2902376984475046,0.3094033785763109,0.22676200204290092,0.396161914381167,0.25546645415151664,0.25640153126329224,0.3553030813835884,0.23767943677425254,0.2785089563535447,0.28923456029570305,0.19367566331198535,0.34308644039458286,0.19983357108892058,0.28721672518353014,0.25396077507509274,0.2782969885773624,0.26091688205686303,0.24454624781849912,0.3100071060030278,0.2617062719127386,0.3031815346225827,0.33342500916758344,0.22335806043061335,0.26767734772788176,0.3191368651694186,0.4514377971574585,0.27117371976213844,0.3668582375478927,0.4342179559570864,0.2795346294994925,0.389120177629753,0.22775104005220653,0.3246553790830087,0.2525314513654495,0.2996039764002263,0.3534836948714265,0.3505533490692711,0.30977337110481584,0.2898283743634593,0.4618930905695612,0.31767410287265885,0.38376039685203833,0.37355213571797685,0.2916963034809786,0.29731016424660794,0.2569562617854022,0.3048431300364053,0.2553610811318099,0.29770305470044994,0.16542916542916544,0.29894258325921536,0.27338454586534117,0.32724033083053355,0.330470534490635,0.2387221344567316,0.19088682018618325,0.3385633270321361,0.31452015697467,0.24990884562094362,0.2817726773287755,0.31749870443945416,0.3072375899962107,0.5247090530442239,0.30525593696125064,0.2800127510360217,0.21419223498618584,0.28610711743275496,0.2942660737413167,0.29149707453574153,0.2026234316441258,0.37306051202482543,0.305478369490402,0.20648624716365044,0.28427994881385965,0.2900816570404302,0.14465116279069767,0.2800181241504304,0.5927877947295423,0.20782498948254102,0.17900853645994036,0.3153101411224155,0.22795264751766542,0.31240349974266596,0.3088235294117647,0.3028050614989824,0.3058545096481075,0.27691683020910873,0.30250221089320084,0.2954008954008954,0.2702160249300164,0.36382305125352954,0.29716440533845984,0.35163986554011084,0.3587290363921603,0.27996457390277507,0.3002670736360168,0.28245284332150067,0.2472470392686474,0.2509913692558899,0.3120636374041433,0.32947007527763283,0.24872370839289362,0.2838389731621937,0.39536468984321743,0.3008995067221201,0.3179353421648706,0.2920193047492481,0.276486262978958,0.18336905272181742,0.30583974649162515,0.636706643309527,0.32178475209150637,0.24288348969609494,0.31929183034340436,0.3315319338990621,0.2213895173453997,0.22316850356574527,0.2208746784270489,0.20619484963083018,0.28680804574409036,0.3305203084208609,0.27504527133594253,0.24648401051827976,0.29654045219286296,0.17421894631041127,0.3187952906200909,0.2936123692019366,0.3079996448548344,0.2797141924485873,0.3751886661757093,0.37023510614015065,0.3043275942298744,0.24355083459787558,0.15005154639175258,0.35076231430805316,0.6697651257365757,0.2826067402254737,0.30764830579763786,0.2920267411032936],\"customdata\":[[\"aboringdystopia\"],[\"actualpublicfreakouts\"],[\"advice\"],[\"adviceanimals\"],[\"agedlikemilk\"],[\"airforce\"],[\"alberta\"],[\"ama\"],[\"amcstock\"],[\"amitheasshole\"],[\"anarcho_capitalism\"],[\"antiwork\"],[\"anxiety\"],[\"army\"],[\"askaliberal\"],[\"askanamerican\"],[\"askdocs\"],[\"askmen\"],[\"asknyc\"],[\"askreddit\"],[\"askscience\"],[\"askto\"],[\"asktrumpsupporters\"],[\"askuk\"],[\"askwomen\"],[\"atheism\"],[\"ausfinance\"],[\"austin\"],[\"australia\"],[\"australianpolitics\"],[\"awfuleverything\"],[\"aww\"],[\"babybumps\"],[\"badunitedkingdom\"],[\"barstoolsports\"],[\"baseball\"],[\"bayarea\"],[\"beyondthebump\"],[\"blackpeopletwitter\"],[\"blogsnark\"],[\"boston\"],[\"bravorealhousewives\"],[\"brisbane\"],[\"britishcolumbia\"],[\"byebyejob\"],[\"calgary\"],[\"canada\"],[\"canadacoronavirus\"],[\"canadapolitics\"],[\"casualconversation\"],[\"centrist\"],[\"cfb\"],[\"changemyview\"],[\"chicago\"],[\"childfree\"],[\"china_flu\"],[\"christianity\"],[\"collapse\"],[\"collegebasketball\"],[\"columbus\"],[\"conservative\"],[\"conspiracy\"],[\"conspiracy_commons\"],[\"coronavirus\"],[\"coronavirusca\"],[\"coronaviruscirclejerk\"],[\"coronavirusdownunder\"],[\"coronavirusma\"],[\"coronavirustx\"],[\"coronavirusuk\"],[\"coronavirusus\"],[\"coronaviruswa\"],[\"covid19\"],[\"covid19_support\"],[\"covid19positive\"],[\"covidiots\"],[\"covidlonghaulers\"],[\"covidvaccinated\"],[\"cricket\"],[\"cringetopia\"],[\"cryptocurrency\"],[\"cscareerquestions\"],[\"dallas\"],[\"damnthatsinteresting\"],[\"dankmemes\"],[\"dataisbeautiful\"],[\"dating_advice\"],[\"datingoverthirty\"],[\"ddnews\"],[\"debatevaccines\"],[\"denver\"],[\"distantsocializing\"],[\"donaldtrump\"],[\"economics\"],[\"edmonton\"],[\"enough_sanders_spam\"],[\"europe\"],[\"exmormon\"],[\"facepalm\"],[\"fantasyfootball\"],[\"financialindependence\"],[\"florida\"],[\"floridacoronavirus\"],[\"formula1\"],[\"fuckyoukaren\"],[\"funny\"],[\"futurology\"],[\"gaming\"],[\"gifs\"],[\"gunners\"],[\"halifax\"],[\"hermancainaward\"],[\"hockey\"],[\"houston\"],[\"iamatotalpieceofshit\"],[\"india\"],[\"indiaspeaks\"],[\"insaneparents\"],[\"insanepeoplefacebook\"],[\"intellectualdarkweb\"],[\"interestingasfuck\"],[\"investing\"],[\"iowa\"],[\"ireland\"],[\"ivermectin\"],[\"joerogan\"],[\"justiceserved\"],[\"justnomil\"],[\"leagueoflegends\"],[\"legaladvice\"],[\"leopardsatemyface\"],[\"libertarian\"],[\"lifeprotips\"],[\"lockdownsceptics\"],[\"lockdownskepticism\"],[\"losangeles\"],[\"louderwithcrowder\"],[\"mademesmile\"],[\"malaysia\"],[\"maryland\"],[\"medicine\"],[\"melbourne\"],[\"memes\"],[\"michigan\"],[\"mildlyinfuriating\"],[\"mildlyinteresting\"],[\"minnesota\"],[\"mma\"],[\"moderatepolitics\"],[\"movies\"],[\"murderedbywords\"],[\"nashville\"],[\"nba\"],[\"neoliberal\"],[\"newjersey\"],[\"news\"],[\"newsnepal\"],[\"newzealand\"],[\"nextfuckinglevel\"],[\"nfl\"],[\"nonewnormal\"],[\"northernireland\"],[\"nostupidquestions\"],[\"nottheonion\"],[\"nursing\"],[\"nyc\"],[\"offmychest\"],[\"ohio\"],[\"onguardforthee\"],[\"ontario\"],[\"ottawa\"],[\"outoftheloop\"],[\"parenting\"],[\"pcmasterrace\"],[\"pennystocks\"],[\"personalfinance\"],[\"personalfinancecanada\"],[\"perth\"],[\"philadelphia\"],[\"philippines\"],[\"pics\"],[\"politicalcompassmemes\"],[\"politicaldiscussion\"],[\"politicalhumor\"],[\"politics\"],[\"portland\"],[\"pregnant\"],[\"ps5\"],[\"publicfreakout\"],[\"qanoncasualties\"],[\"qult_headquarters\"],[\"raleigh\"],[\"random_acts_of_amazon\"],[\"realestate\"],[\"redditsessions\"],[\"relationship_advice\"],[\"relationships\"],[\"sacramento\"],[\"samharris\"],[\"sandiego\"],[\"sanfrancisco\"],[\"saskatoon\"],[\"science\"],[\"scotland\"],[\"seattle\"],[\"seattlewa\"],[\"selfawarewolves\"],[\"showerthoughts\"],[\"singapore\"],[\"soccer\"],[\"squaredcircle\"],[\"starbucks\"],[\"stlouis\"],[\"stocks\"],[\"stupidpol\"],[\"subredditdrama\"],[\"superstonk\"],[\"sydney\"],[\"teachers\"],[\"technology\"],[\"teenagers\"],[\"teenmomogandteenmom2\"],[\"television\"],[\"texas\"],[\"thebachelor\"],[\"themotte\"],[\"therightcantmeme\"],[\"theyoushow\"],[\"todayilearned\"],[\"tooafraidtoask\"],[\"toronto\"],[\"trashy\"],[\"travel\"],[\"trueoffmychest\"],[\"trump\"],[\"twoxchromosomes\"],[\"ukpolitics\"],[\"unemployment\"],[\"unitedkingdom\"],[\"unpopularopinion\"],[\"upliftingnews\"],[\"usps\"],[\"vancouver\"],[\"vaxxhappened\"],[\"victoriabc\"],[\"videos\"],[\"wallstreetbets\"],[\"walmart\"],[\"washingtondc\"],[\"wayofthebern\"],[\"weddingplanning\"],[\"whatcouldgowrong\"],[\"whereintheworld\"],[\"whitepeopletwitter\"],[\"winnipeg\"],[\"worldnews\"]],\"hovertemplate\":\"Positive=%{a}<br>Negative=%{b}<br>Neutral=%{c}<br>Name=%{customdata[0]}<extra></extra>\",\"legendgroup\":\"\",\"marker\":{\"color\":\"#636efa\",\"symbol\":\"circle\"},\"mode\":\"markers\",\"name\":\"\",\"showlegend\":false,\"subplot\":\"ternary\",\"type\":\"scatterternary\"}],                        {\"template\":{\"data\":{\"bar\":[{\"error_x\":{\"color\":\"#2a3f5f\"},\"error_y\":{\"color\":\"#2a3f5f\"},\"marker\":{\"line\":{\"color\":\"#E5ECF6\",\"width\":0.5},\"pattern\":{\"fillmode\":\"overlay\",\"size\":10,\"solidity\":0.2}},\"type\":\"bar\"}],\"barpolar\":[{\"marker\":{\"line\":{\"color\":\"#E5ECF6\",\"width\":0.5},\"pattern\":{\"fillmode\":\"overlay\",\"size\":10,\"solidity\":0.2}},\"type\":\"barpolar\"}],\"carpet\":[{\"aaxis\":{\"endlinecolor\":\"#2a3f5f\",\"gridcolor\":\"white\",\"linecolor\":\"white\",\"minorgridcolor\":\"white\",\"startlinecolor\":\"#2a3f5f\"},\"baxis\":{\"endlinecolor\":\"#2a3f5f\",\"gridcolor\":\"white\",\"linecolor\":\"white\",\"minorgridcolor\":\"white\",\"startlinecolor\":\"#2a3f5f\"},\"type\":\"carpet\"}],\"choropleth\":[{\"colorbar\":{\"outlinewidth\":0,\"ticks\":\"\"},\"type\":\"choropleth\"}],\"contour\":[{\"colorbar\":{\"outlinewidth\":0,\"ticks\":\"\"},\"colorscale\":[[0.0,\"#0d0887\"],[0.1111111111111111,\"#46039f\"],[0.2222222222222222,\"#7201a8\"],[0.3333333333333333,\"#9c179e\"],[0.4444444444444444,\"#bd3786\"],[0.5555555555555556,\"#d8576b\"],[0.6666666666666666,\"#ed7953\"],[0.7777777777777778,\"#fb9f3a\"],[0.8888888888888888,\"#fdca26\"],[1.0,\"#f0f921\"]],\"type\":\"contour\"}],\"contourcarpet\":[{\"colorbar\":{\"outlinewidth\":0,\"ticks\":\"\"},\"type\":\"contourcarpet\"}],\"heatmap\":[{\"colorbar\":{\"outlinewidth\":0,\"ticks\":\"\"},\"colorscale\":[[0.0,\"#0d0887\"],[0.1111111111111111,\"#46039f\"],[0.2222222222222222,\"#7201a8\"],[0.3333333333333333,\"#9c179e\"],[0.4444444444444444,\"#bd3786\"],[0.5555555555555556,\"#d8576b\"],[0.6666666666666666,\"#ed7953\"],[0.7777777777777778,\"#fb9f3a\"],[0.8888888888888888,\"#fdca26\"],[1.0,\"#f0f921\"]],\"type\":\"heatmap\"}],\"heatmapgl\":[{\"colorbar\":{\"outlinewidth\":0,\"ticks\":\"\"},\"colorscale\":[[0.0,\"#0d0887\"],[0.1111111111111111,\"#46039f\"],[0.2222222222222222,\"#7201a8\"],[0.3333333333333333,\"#9c179e\"],[0.4444444444444444,\"#bd3786\"],[0.5555555555555556,\"#d8576b\"],[0.6666666666666666,\"#ed7953\"],[0.7777777777777778,\"#fb9f3a\"],[0.8888888888888888,\"#fdca26\"],[1.0,\"#f0f921\"]],\"type\":\"heatmapgl\"}],\"histogram\":[{\"marker\":{\"pattern\":{\"fillmode\":\"overlay\",\"size\":10,\"solidity\":0.2}},\"type\":\"histogram\"}],\"histogram2d\":[{\"colorbar\":{\"outlinewidth\":0,\"ticks\":\"\"},\"colorscale\":[[0.0,\"#0d0887\"],[0.1111111111111111,\"#46039f\"],[0.2222222222222222,\"#7201a8\"],[0.3333333333333333,\"#9c179e\"],[0.4444444444444444,\"#bd3786\"],[0.5555555555555556,\"#d8576b\"],[0.6666666666666666,\"#ed7953\"],[0.7777777777777778,\"#fb9f3a\"],[0.8888888888888888,\"#fdca26\"],[1.0,\"#f0f921\"]],\"type\":\"histogram2d\"}],\"histogram2dcontour\":[{\"colorbar\":{\"outlinewidth\":0,\"ticks\":\"\"},\"colorscale\":[[0.0,\"#0d0887\"],[0.1111111111111111,\"#46039f\"],[0.2222222222222222,\"#7201a8\"],[0.3333333333333333,\"#9c179e\"],[0.4444444444444444,\"#bd3786\"],[0.5555555555555556,\"#d8576b\"],[0.6666666666666666,\"#ed7953\"],[0.7777777777777778,\"#fb9f3a\"],[0.8888888888888888,\"#fdca26\"],[1.0,\"#f0f921\"]],\"type\":\"histogram2dcontour\"}],\"mesh3d\":[{\"colorbar\":{\"outlinewidth\":0,\"ticks\":\"\"},\"type\":\"mesh3d\"}],\"parcoords\":[{\"line\":{\"colorbar\":{\"outlinewidth\":0,\"ticks\":\"\"}},\"type\":\"parcoords\"}],\"pie\":[{\"automargin\":true,\"type\":\"pie\"}],\"scatter\":[{\"marker\":{\"colorbar\":{\"outlinewidth\":0,\"ticks\":\"\"}},\"type\":\"scatter\"}],\"scatter3d\":[{\"line\":{\"colorbar\":{\"outlinewidth\":0,\"ticks\":\"\"}},\"marker\":{\"colorbar\":{\"outlinewidth\":0,\"ticks\":\"\"}},\"type\":\"scatter3d\"}],\"scattercarpet\":[{\"marker\":{\"colorbar\":{\"outlinewidth\":0,\"ticks\":\"\"}},\"type\":\"scattercarpet\"}],\"scattergeo\":[{\"marker\":{\"colorbar\":{\"outlinewidth\":0,\"ticks\":\"\"}},\"type\":\"scattergeo\"}],\"scattergl\":[{\"marker\":{\"colorbar\":{\"outlinewidth\":0,\"ticks\":\"\"}},\"type\":\"scattergl\"}],\"scattermapbox\":[{\"marker\":{\"colorbar\":{\"outlinewidth\":0,\"ticks\":\"\"}},\"type\":\"scattermapbox\"}],\"scatterpolar\":[{\"marker\":{\"colorbar\":{\"outlinewidth\":0,\"ticks\":\"\"}},\"type\":\"scatterpolar\"}],\"scatterpolargl\":[{\"marker\":{\"colorbar\":{\"outlinewidth\":0,\"ticks\":\"\"}},\"type\":\"scatterpolargl\"}],\"scatterternary\":[{\"marker\":{\"colorbar\":{\"outlinewidth\":0,\"ticks\":\"\"}},\"type\":\"scatterternary\"}],\"surface\":[{\"colorbar\":{\"outlinewidth\":0,\"ticks\":\"\"},\"colorscale\":[[0.0,\"#0d0887\"],[0.1111111111111111,\"#46039f\"],[0.2222222222222222,\"#7201a8\"],[0.3333333333333333,\"#9c179e\"],[0.4444444444444444,\"#bd3786\"],[0.5555555555555556,\"#d8576b\"],[0.6666666666666666,\"#ed7953\"],[0.7777777777777778,\"#fb9f3a\"],[0.8888888888888888,\"#fdca26\"],[1.0,\"#f0f921\"]],\"type\":\"surface\"}],\"table\":[{\"cells\":{\"fill\":{\"color\":\"#EBF0F8\"},\"line\":{\"color\":\"white\"}},\"header\":{\"fill\":{\"color\":\"#C8D4E3\"},\"line\":{\"color\":\"white\"}},\"type\":\"table\"}]},\"layout\":{\"annotationdefaults\":{\"arrowcolor\":\"#2a3f5f\",\"arrowhead\":0,\"arrowwidth\":1},\"autotypenumbers\":\"strict\",\"coloraxis\":{\"colorbar\":{\"outlinewidth\":0,\"ticks\":\"\"}},\"colorscale\":{\"diverging\":[[0,\"#8e0152\"],[0.1,\"#c51b7d\"],[0.2,\"#de77ae\"],[0.3,\"#f1b6da\"],[0.4,\"#fde0ef\"],[0.5,\"#f7f7f7\"],[0.6,\"#e6f5d0\"],[0.7,\"#b8e186\"],[0.8,\"#7fbc41\"],[0.9,\"#4d9221\"],[1,\"#276419\"]],\"sequential\":[[0.0,\"#0d0887\"],[0.1111111111111111,\"#46039f\"],[0.2222222222222222,\"#7201a8\"],[0.3333333333333333,\"#9c179e\"],[0.4444444444444444,\"#bd3786\"],[0.5555555555555556,\"#d8576b\"],[0.6666666666666666,\"#ed7953\"],[0.7777777777777778,\"#fb9f3a\"],[0.8888888888888888,\"#fdca26\"],[1.0,\"#f0f921\"]],\"sequentialminus\":[[0.0,\"#0d0887\"],[0.1111111111111111,\"#46039f\"],[0.2222222222222222,\"#7201a8\"],[0.3333333333333333,\"#9c179e\"],[0.4444444444444444,\"#bd3786\"],[0.5555555555555556,\"#d8576b\"],[0.6666666666666666,\"#ed7953\"],[0.7777777777777778,\"#fb9f3a\"],[0.8888888888888888,\"#fdca26\"],[1.0,\"#f0f921\"]]},\"colorway\":[\"#636efa\",\"#EF553B\",\"#00cc96\",\"#ab63fa\",\"#FFA15A\",\"#19d3f3\",\"#FF6692\",\"#B6E880\",\"#FF97FF\",\"#FECB52\"],\"font\":{\"color\":\"#2a3f5f\"},\"geo\":{\"bgcolor\":\"white\",\"lakecolor\":\"white\",\"landcolor\":\"#E5ECF6\",\"showlakes\":true,\"showland\":true,\"subunitcolor\":\"white\"},\"hoverlabel\":{\"align\":\"left\"},\"hovermode\":\"closest\",\"mapbox\":{\"style\":\"light\"},\"paper_bgcolor\":\"white\",\"plot_bgcolor\":\"#E5ECF6\",\"polar\":{\"angularaxis\":{\"gridcolor\":\"white\",\"linecolor\":\"white\",\"ticks\":\"\"},\"bgcolor\":\"#E5ECF6\",\"radialaxis\":{\"gridcolor\":\"white\",\"linecolor\":\"white\",\"ticks\":\"\"}},\"scene\":{\"xaxis\":{\"backgroundcolor\":\"#E5ECF6\",\"gridcolor\":\"white\",\"gridwidth\":2,\"linecolor\":\"white\",\"showbackground\":true,\"ticks\":\"\",\"zerolinecolor\":\"white\"},\"yaxis\":{\"backgroundcolor\":\"#E5ECF6\",\"gridcolor\":\"white\",\"gridwidth\":2,\"linecolor\":\"white\",\"showbackground\":true,\"ticks\":\"\",\"zerolinecolor\":\"white\"},\"zaxis\":{\"backgroundcolor\":\"#E5ECF6\",\"gridcolor\":\"white\",\"gridwidth\":2,\"linecolor\":\"white\",\"showbackground\":true,\"ticks\":\"\",\"zerolinecolor\":\"white\"}},\"shapedefaults\":{\"line\":{\"color\":\"#2a3f5f\"}},\"ternary\":{\"aaxis\":{\"gridcolor\":\"white\",\"linecolor\":\"white\",\"ticks\":\"\"},\"baxis\":{\"gridcolor\":\"white\",\"linecolor\":\"white\",\"ticks\":\"\"},\"bgcolor\":\"#E5ECF6\",\"caxis\":{\"gridcolor\":\"white\",\"linecolor\":\"white\",\"ticks\":\"\"}},\"title\":{\"x\":0.05},\"xaxis\":{\"automargin\":true,\"gridcolor\":\"white\",\"linecolor\":\"white\",\"ticks\":\"\",\"title\":{\"standoff\":15},\"zerolinecolor\":\"white\",\"zerolinewidth\":2},\"yaxis\":{\"automargin\":true,\"gridcolor\":\"white\",\"linecolor\":\"white\",\"ticks\":\"\",\"title\":{\"standoff\":15},\"zerolinecolor\":\"white\",\"zerolinewidth\":2}}},\"ternary\":{\"domain\":{\"x\":[0.0,1.0],\"y\":[0.0,1.0]},\"aaxis\":{\"title\":{\"text\":\"Positive\"}},\"baxis\":{\"title\":{\"text\":\"Negative\"}},\"caxis\":{\"title\":{\"text\":\"Neutral\"}}},\"legend\":{\"tracegroupgap\":0},\"margin\":{\"t\":60}},                        {\"responsive\": true}                    ).then(function(){\n",
       "                            \n",
       "var gd = document.getElementById('54168a59-045c-4ebe-8e69-31ffd2f2fa5d');\n",
       "var x = new MutationObserver(function (mutations, observer) {{\n",
       "        var display = window.getComputedStyle(gd).display;\n",
       "        if (!display || display === 'none') {{\n",
       "            console.log([gd, 'removed!']);\n",
       "            Plotly.purge(gd);\n",
       "            observer.disconnect();\n",
       "        }}\n",
       "}});\n",
       "\n",
       "// Listen for the removal of the full notebook cells\n",
       "var notebookContainer = gd.closest('#notebook-container');\n",
       "if (notebookContainer) {{\n",
       "    x.observe(notebookContainer, {childList: true});\n",
       "}}\n",
       "\n",
       "// Listen for the clearing of the current output cell\n",
       "var outputEl = gd.closest('.output');\n",
       "if (outputEl) {{\n",
       "    x.observe(outputEl, {childList: true});\n",
       "}}\n",
       "\n",
       "                        })                };                });            </script>        </div>"
      ]
     },
     "metadata": {},
     "output_type": "display_data"
    }
   ],
   "source": [
    "\n",
    "df2 = pd.DataFrame.from_records(df,columns=['Positive', 'Negative', 'Neutral','Name'])\n",
    "fig = px.scatter_ternary(df2, a=\"Positive\", b=\"Negative\", c=\"Neutral\",hover_data=[\"Name\"])\n",
    "fig.show()"
   ]
  },
  {
   "cell_type": "code",
   "execution_count": 80,
   "id": "9a11990d",
   "metadata": {},
   "outputs": [
    {
     "name": "stdout",
     "output_type": "stream",
     "text": [
      "['theyoushow', 'whereintheworld', 'distantsocializing', 'actualpublicfreakouts', 'dankmemes', 'newsnepal', 'therightcantmeme', 'justiceserved', 'memes', 'iamatotalpieceofshit', 'publicfreakout', 'philippines', 'coronaviruscirclejerk', 'insanepeoplefacebook', 'cringetopia', 'whatcouldgowrong', 'conspiracy_commons', 'donaldtrump', 'leopardsatemyface', 'nonewnormal', 'awfuleverything', 'murderedbywords', 'trashy', 'selfawarewolves', 'trump', 'fuckyoukaren', 'facepalm', 'anarcho_capitalism', 'politicalhumor', 'mma', 'collapse', 'qult_headquarters', 'covidiots', 'politicalcompassmemes', 'hermancainaward', 'conspiracy', 'gifs', 'louderwithcrowder', 'news', 'subredditdrama', 'vaxxhappened', 'agedlikemilk', 'badunitedkingdom', 'conservative', 'nottheonion', 'blackpeopletwitter', 'redditsessions', 'byebyejob', 'libertarian', 'insaneparents', 'mildlyinfuriating', 'adviceanimals', 'lockdownskepticism', 'whitepeopletwitter', 'dataisbeautiful', 'damnthatsinteresting', 'interestingasfuck', 'stupidpol', 'barstoolsports', 'aboringdystopia', 'politics', 'worldnews', 'unitedkingdom', 'ohio', 'debatevaccines', 'videos', 'texas', 'ireland', 'walmart', 'china_flu', 'showerthoughts', 'seattlewa', 'michigan', 'joerogan', 'teenagers', 'europe', 'neoliberal', 'coronavirus', 'indiaspeaks', 'outoftheloop', 'ukpolitics', 'mildlyinteresting', 'unpopularopinion', 'samharris', 'pics', 'coronavirusus', 'australia', 'science', 'technology', 'wallstreetbets', 'centrist', 'coronavirusca', 'ontario', 'nfl', 'trueoffmychest', 'nextfuckinglevel', 'houston', 'todayilearned', 'atheism', 'floridacoronavirus', 'wayofthebern', 'coronavirustx', 'alberta', 'nyc', 'coronavirusdownunder', 'asktrumpsupporters', 'ama', 'economics', 'coronavirusuk', 'nba', 'dallas', 'upliftingnews', 'lockdownsceptics', 'tooafraidtoask', 'moderatepolitics', 'northernireland', 'intellectualdarkweb', 'chicago', 'enough_sanders_spam', 'bayarea', 'antiwork', 'qanoncasualties', 'onguardforthee', 'minnesota', 'britishcolumbia', 'australianpolitics', 'calgary', 'cricket', 'baseball', 'army', 'teenmomogandteenmom2', 'losangeles', 'sydney', 'newzealand', 'unemployment', 'hockey', 'portland', 'askreddit', 'melbourne', 'stlouis', 'columbus', 'askaliberal', 'toronto', 'perth', 'canadacoronavirus', 'leagueoflegends', 'soccer', 'scotland', 'squaredcircle', 'newjersey', 'philadelphia', 'seattle', 'brisbane', 'themotte', 'television', 'formula1', 'denver', 'ottawa', 'austin', 'sacramento', 'movies', 'sanfrancisco', 'nostupidquestions', 'canadapolitics', 'canada', 'coronavirusma', 'futurology', 'superstonk', 'nashville', 'ps5', 'bravorealhousewives', 'coronaviruswa', 'cfb', 'florida', 'winnipeg', 'boston', 'christianity', 'vancouver', 'gaming', 'sandiego', 'malaysia', 'covidvaccinated', 'saskatoon', 'fantasyfootball', 'changemyview', 'medicine', 'halifax', 'victoriabc', 'politicaldiscussion', 'airforce', 'raleigh', 'singapore', 'amcstock', 'ivermectin', 'collegebasketball', 'askanamerican', 'washingtondc', 'askdocs', 'gunners', 'iowa', 'nursing', 'cryptocurrency', 'edmonton', 'covid19positive', 'teachers', 'askscience', 'aww', 'askuk', 'mademesmile', 'covidlonghaulers', 'askto', 'lifeprotips', 'thebachelor', 'exmormon', 'blogsnark', 'investing', 'starbucks', 'childfree', 'twoxchromosomes', 'india', 'realestate', 'pcmasterrace', 'justnomil', 'covid19', 'offmychest', 'covid19_support', 'stocks', 'ausfinance', 'relationship_advice', 'legaladvice', 'personalfinancecanada', 'askmen', 'amitheasshole', 'advice', 'maryland', 'personalfinance', 'pennystocks', 'pregnant', 'casualconversation', 'beyondthebump', 'relationships', 'parenting', 'anxiety', 'cscareerquestions', 'babybumps', 'financialindependence', 'funny', 'askwomen', 'asknyc', 'dating_advice', 'datingoverthirty', 'travel', 'usps', 'ddnews', 'random_acts_of_amazon', 'weddingplanning']\n"
     ]
    }
   ],
   "source": [
    "neus = []\n",
    "for sub in subs:\n",
    "    neus.append(pos[sub]/subdict[sub])\n",
    "print([x for _, x in sorted(zip(neus, subs))])"
   ]
  },
  {
   "cell_type": "code",
   "execution_count": null,
   "id": "e6ceb447",
   "metadata": {},
   "outputs": [],
   "source": []
  }
 ],
 "metadata": {
  "kernelspec": {
   "display_name": "Python 3 (ipykernel)",
   "language": "python",
   "name": "python3"
  },
  "language_info": {
   "codemirror_mode": {
    "name": "ipython",
    "version": 3
   },
   "file_extension": ".py",
   "mimetype": "text/x-python",
   "name": "python",
   "nbconvert_exporter": "python",
   "pygments_lexer": "ipython3",
   "version": "3.8.12"
  }
 },
 "nbformat": 4,
 "nbformat_minor": 5
}
